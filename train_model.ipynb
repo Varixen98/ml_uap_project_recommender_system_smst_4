{
 "cells": [
  {
   "cell_type": "code",
   "execution_count": 1,
   "id": "834145a5",
   "metadata": {},
   "outputs": [],
   "source": [
    "import pandas as pd\n",
    "import numpy as np\n",
    "import matplotlib.pyplot as plt\n",
    "import seaborn as sns"
   ]
  },
  {
   "cell_type": "code",
   "execution_count": 2,
   "id": "176c1c6f",
   "metadata": {},
   "outputs": [],
   "source": [
    "ratings = pd.read_csv(\"./Datasets/ml-32m/ratings.csv\")\n",
    "movies = pd.read_csv(\"./Datasets/ml-32m/movies.csv\")"
   ]
  },
  {
   "cell_type": "markdown",
   "id": "2e6d5d3e",
   "metadata": {},
   "source": [
    "<h2>Exploratory data</h2>"
   ]
  },
  {
   "cell_type": "code",
   "execution_count": 3,
   "id": "8b6447bd",
   "metadata": {},
   "outputs": [
    {
     "data": {
      "application/vnd.microsoft.datawrangler.viewer.v0+json": {
       "columns": [
        {
         "name": "index",
         "rawType": "int64",
         "type": "integer"
        },
        {
         "name": "userId",
         "rawType": "int64",
         "type": "integer"
        },
        {
         "name": "movieId",
         "rawType": "int64",
         "type": "integer"
        },
        {
         "name": "rating",
         "rawType": "float64",
         "type": "float"
        },
        {
         "name": "timestamp",
         "rawType": "int64",
         "type": "integer"
        }
       ],
       "conversionMethod": "pd.DataFrame",
       "ref": "4da798a8-32a0-4d74-9bdf-13e995becc03",
       "rows": [
        [
         "0",
         "1",
         "17",
         "4.0",
         "944249077"
        ],
        [
         "1",
         "1",
         "25",
         "1.0",
         "944250228"
        ],
        [
         "2",
         "1",
         "29",
         "2.0",
         "943230976"
        ],
        [
         "3",
         "1",
         "30",
         "5.0",
         "944249077"
        ],
        [
         "4",
         "1",
         "32",
         "5.0",
         "943228858"
        ]
       ],
       "shape": {
        "columns": 4,
        "rows": 5
       }
      },
      "text/html": [
       "<div>\n",
       "<style scoped>\n",
       "    .dataframe tbody tr th:only-of-type {\n",
       "        vertical-align: middle;\n",
       "    }\n",
       "\n",
       "    .dataframe tbody tr th {\n",
       "        vertical-align: top;\n",
       "    }\n",
       "\n",
       "    .dataframe thead th {\n",
       "        text-align: right;\n",
       "    }\n",
       "</style>\n",
       "<table border=\"1\" class=\"dataframe\">\n",
       "  <thead>\n",
       "    <tr style=\"text-align: right;\">\n",
       "      <th></th>\n",
       "      <th>userId</th>\n",
       "      <th>movieId</th>\n",
       "      <th>rating</th>\n",
       "      <th>timestamp</th>\n",
       "    </tr>\n",
       "  </thead>\n",
       "  <tbody>\n",
       "    <tr>\n",
       "      <th>0</th>\n",
       "      <td>1</td>\n",
       "      <td>17</td>\n",
       "      <td>4.0</td>\n",
       "      <td>944249077</td>\n",
       "    </tr>\n",
       "    <tr>\n",
       "      <th>1</th>\n",
       "      <td>1</td>\n",
       "      <td>25</td>\n",
       "      <td>1.0</td>\n",
       "      <td>944250228</td>\n",
       "    </tr>\n",
       "    <tr>\n",
       "      <th>2</th>\n",
       "      <td>1</td>\n",
       "      <td>29</td>\n",
       "      <td>2.0</td>\n",
       "      <td>943230976</td>\n",
       "    </tr>\n",
       "    <tr>\n",
       "      <th>3</th>\n",
       "      <td>1</td>\n",
       "      <td>30</td>\n",
       "      <td>5.0</td>\n",
       "      <td>944249077</td>\n",
       "    </tr>\n",
       "    <tr>\n",
       "      <th>4</th>\n",
       "      <td>1</td>\n",
       "      <td>32</td>\n",
       "      <td>5.0</td>\n",
       "      <td>943228858</td>\n",
       "    </tr>\n",
       "  </tbody>\n",
       "</table>\n",
       "</div>"
      ],
      "text/plain": [
       "   userId  movieId  rating  timestamp\n",
       "0       1       17     4.0  944249077\n",
       "1       1       25     1.0  944250228\n",
       "2       1       29     2.0  943230976\n",
       "3       1       30     5.0  944249077\n",
       "4       1       32     5.0  943228858"
      ]
     },
     "execution_count": 3,
     "metadata": {},
     "output_type": "execute_result"
    }
   ],
   "source": [
    "ratings.head()"
   ]
  },
  {
   "cell_type": "code",
   "execution_count": 4,
   "id": "0a27c4b3",
   "metadata": {},
   "outputs": [
    {
     "data": {
      "application/vnd.microsoft.datawrangler.viewer.v0+json": {
       "columns": [
        {
         "name": "index",
         "rawType": "int64",
         "type": "integer"
        },
        {
         "name": "movieId",
         "rawType": "int64",
         "type": "integer"
        },
        {
         "name": "title",
         "rawType": "object",
         "type": "string"
        },
        {
         "name": "genres",
         "rawType": "object",
         "type": "string"
        }
       ],
       "conversionMethod": "pd.DataFrame",
       "ref": "0e6201b8-e747-4525-92fe-18d17e20d1ce",
       "rows": [
        [
         "0",
         "1",
         "Toy Story (1995)",
         "Adventure|Animation|Children|Comedy|Fantasy"
        ],
        [
         "1",
         "2",
         "Jumanji (1995)",
         "Adventure|Children|Fantasy"
        ],
        [
         "2",
         "3",
         "Grumpier Old Men (1995)",
         "Comedy|Romance"
        ],
        [
         "3",
         "4",
         "Waiting to Exhale (1995)",
         "Comedy|Drama|Romance"
        ],
        [
         "4",
         "5",
         "Father of the Bride Part II (1995)",
         "Comedy"
        ]
       ],
       "shape": {
        "columns": 3,
        "rows": 5
       }
      },
      "text/html": [
       "<div>\n",
       "<style scoped>\n",
       "    .dataframe tbody tr th:only-of-type {\n",
       "        vertical-align: middle;\n",
       "    }\n",
       "\n",
       "    .dataframe tbody tr th {\n",
       "        vertical-align: top;\n",
       "    }\n",
       "\n",
       "    .dataframe thead th {\n",
       "        text-align: right;\n",
       "    }\n",
       "</style>\n",
       "<table border=\"1\" class=\"dataframe\">\n",
       "  <thead>\n",
       "    <tr style=\"text-align: right;\">\n",
       "      <th></th>\n",
       "      <th>movieId</th>\n",
       "      <th>title</th>\n",
       "      <th>genres</th>\n",
       "    </tr>\n",
       "  </thead>\n",
       "  <tbody>\n",
       "    <tr>\n",
       "      <th>0</th>\n",
       "      <td>1</td>\n",
       "      <td>Toy Story (1995)</td>\n",
       "      <td>Adventure|Animation|Children|Comedy|Fantasy</td>\n",
       "    </tr>\n",
       "    <tr>\n",
       "      <th>1</th>\n",
       "      <td>2</td>\n",
       "      <td>Jumanji (1995)</td>\n",
       "      <td>Adventure|Children|Fantasy</td>\n",
       "    </tr>\n",
       "    <tr>\n",
       "      <th>2</th>\n",
       "      <td>3</td>\n",
       "      <td>Grumpier Old Men (1995)</td>\n",
       "      <td>Comedy|Romance</td>\n",
       "    </tr>\n",
       "    <tr>\n",
       "      <th>3</th>\n",
       "      <td>4</td>\n",
       "      <td>Waiting to Exhale (1995)</td>\n",
       "      <td>Comedy|Drama|Romance</td>\n",
       "    </tr>\n",
       "    <tr>\n",
       "      <th>4</th>\n",
       "      <td>5</td>\n",
       "      <td>Father of the Bride Part II (1995)</td>\n",
       "      <td>Comedy</td>\n",
       "    </tr>\n",
       "  </tbody>\n",
       "</table>\n",
       "</div>"
      ],
      "text/plain": [
       "   movieId                               title  \\\n",
       "0        1                    Toy Story (1995)   \n",
       "1        2                      Jumanji (1995)   \n",
       "2        3             Grumpier Old Men (1995)   \n",
       "3        4            Waiting to Exhale (1995)   \n",
       "4        5  Father of the Bride Part II (1995)   \n",
       "\n",
       "                                        genres  \n",
       "0  Adventure|Animation|Children|Comedy|Fantasy  \n",
       "1                   Adventure|Children|Fantasy  \n",
       "2                               Comedy|Romance  \n",
       "3                         Comedy|Drama|Romance  \n",
       "4                                       Comedy  "
      ]
     },
     "execution_count": 4,
     "metadata": {},
     "output_type": "execute_result"
    }
   ],
   "source": [
    "movies.head()"
   ]
  },
  {
   "cell_type": "code",
   "execution_count": 5,
   "id": "88240fd0",
   "metadata": {},
   "outputs": [],
   "source": [
    "n_ratings = len(ratings)\n",
    "n_movies = ratings['movieId'].nunique()\n",
    "n_users = ratings['userId'].nunique()"
   ]
  },
  {
   "cell_type": "code",
   "execution_count": 6,
   "id": "cfc1f38a",
   "metadata": {},
   "outputs": [
    {
     "name": "stdout",
     "output_type": "stream",
     "text": [
      "Number of ratings: 32000204\n",
      "Number of unique movie Id: 84432\n",
      "Number of unique users: 200948\n",
      "Average number of ratings per user: 159.25\n",
      "Average number of ratings per movie: 379.01\n"
     ]
    }
   ],
   "source": [
    "print(f\"Number of ratings: {n_ratings}\")\n",
    "print(f\"Number of unique movie Id: {n_movies}\")\n",
    "print(f\"Number of unique users: {n_users}\")\n",
    "print(f\"Average number of ratings per user: {round(n_ratings/n_users, 2)}\")\n",
    "print(f\"Average number of ratings per movie: {round(n_ratings/n_movies, 2)}\")"
   ]
  },
  {
   "cell_type": "code",
   "execution_count": 7,
   "id": "8e7c2d34",
   "metadata": {},
   "outputs": [
    {
     "data": {
      "image/png": "[encoded data removed]",
      "text/plain": [
       "<Figure size 640x480 with 1 Axes>"
      ]
     },
     "metadata": {},
     "output_type": "display_data"
    }
   ],
   "source": [
    "sns.countplot(x='rating', data=ratings)\n",
    "plt.title(\"Distributions of movie ratings\")\n",
    "plt.show()"
   ]
  },
  {
   "cell_type": "code",
   "execution_count": 8,
   "id": "5e9b691c",
   "metadata": {},
   "outputs": [
    {
     "name": "stdout",
     "output_type": "stream",
     "text": [
      "Mean global rating: 3.54\n"
     ]
    }
   ],
   "source": [
    "print(f\"Mean global rating: {round(ratings['rating'].mean(), 2)}\")"
   ]
  },
  {
   "cell_type": "code",
   "execution_count": 9,
   "id": "92a3c19c",
   "metadata": {},
   "outputs": [
    {
     "name": "stdout",
     "output_type": "stream",
     "text": [
      "Mean rating per user: 3.7\n"
     ]
    }
   ],
   "source": [
    "mean_ratings = ratings.groupby('userId')['rating'].mean()\n",
    "print(f\"Mean rating per user: {round(mean_ratings.mean(), 2)}\")"
   ]
  },
  {
   "cell_type": "markdown",
   "id": "a07a50c5",
   "metadata": {},
   "source": [
    "<h2>Movie mana yang lebih sering diberikan rating</h2>"
   ]
  },
  {
   "cell_type": "code",
   "execution_count": 10,
   "id": "7b19b165",
   "metadata": {},
   "outputs": [
    {
     "data": {
      "text/plain": [
       "318       102929\n",
       "356       100296\n",
       "296        98409\n",
       "2571       93808\n",
       "593        90330\n",
       "           ...  \n",
       "288825         1\n",
       "288467         1\n",
       "287221         1\n",
       "284087         1\n",
       "274343         1\n",
       "Name: movieId, Length: 84432, dtype: int64"
      ]
     },
     "execution_count": 10,
     "metadata": {},
     "output_type": "execute_result"
    }
   ],
   "source": [
    "ratings['movieId'].value_counts()"
   ]
  },
  {
   "cell_type": "code",
   "execution_count": 11,
   "id": "4ffc1b4a",
   "metadata": {},
   "outputs": [],
   "source": [
    "movie_rating = ratings.merge(movies, on='movieId')\n"
   ]
  },
  {
   "cell_type": "code",
   "execution_count": 12,
   "id": "86640509",
   "metadata": {},
   "outputs": [
    {
     "data": {
      "text/plain": [
       "Shawshank Redemption, The (1994)                             102929\n",
       "Forrest Gump (1994)                                          100296\n",
       "Pulp Fiction (1994)                                           98409\n",
       "Matrix, The (1999)                                            93808\n",
       "Silence of the Lambs, The (1991)                              90330\n",
       "Star Wars: Episode IV - A New Hope (1977)                     85010\n",
       "Fight Club (1999)                                             77332\n",
       "Jurassic Park (1993)                                          75233\n",
       "Schindler's List (1993)                                       73849\n",
       "Lord of the Rings: The Fellowship of the Ring, The (2001)     73122\n",
       "Name: title, dtype: int64"
      ]
     },
     "execution_count": 12,
     "metadata": {},
     "output_type": "execute_result"
    }
   ],
   "source": [
    "# Top 10 most rated movies\n",
    "movie_rating['title'].value_counts()[0:10]"
   ]
  },
  {
   "cell_type": "markdown",
   "id": "9132b229",
   "metadata": {},
   "source": [
    "<h2>Movie mana yang jarang diberikan rating</h2>"
   ]
  },
  {
   "cell_type": "code",
   "execution_count": 13,
   "id": "5a2ef2b5",
   "metadata": {},
   "outputs": [
    {
     "data": {
      "application/vnd.microsoft.datawrangler.viewer.v0+json": {
       "columns": [
        {
         "name": "index",
         "rawType": "int64",
         "type": "integer"
        },
        {
         "name": "movieId",
         "rawType": "int64",
         "type": "integer"
        },
        {
         "name": "title",
         "rawType": "object",
         "type": "string"
        },
        {
         "name": "genres",
         "rawType": "object",
         "type": "string"
        }
       ],
       "conversionMethod": "pd.DataFrame",
       "ref": "4caf3838-2171-4e9c-b185-359d6e03b8a4",
       "rows": [
        [
         "218",
         "220",
         "Castle Freak (1995)",
         "Horror"
        ]
       ],
       "shape": {
        "columns": 3,
        "rows": 1
       }
      },
      "text/html": [
       "<div>\n",
       "<style scoped>\n",
       "    .dataframe tbody tr th:only-of-type {\n",
       "        vertical-align: middle;\n",
       "    }\n",
       "\n",
       "    .dataframe tbody tr th {\n",
       "        vertical-align: top;\n",
       "    }\n",
       "\n",
       "    .dataframe thead th {\n",
       "        text-align: right;\n",
       "    }\n",
       "</style>\n",
       "<table border=\"1\" class=\"dataframe\">\n",
       "  <thead>\n",
       "    <tr style=\"text-align: right;\">\n",
       "      <th></th>\n",
       "      <th>movieId</th>\n",
       "      <th>title</th>\n",
       "      <th>genres</th>\n",
       "    </tr>\n",
       "  </thead>\n",
       "  <tbody>\n",
       "    <tr>\n",
       "      <th>218</th>\n",
       "      <td>220</td>\n",
       "      <td>Castle Freak (1995)</td>\n",
       "      <td>Horror</td>\n",
       "    </tr>\n",
       "  </tbody>\n",
       "</table>\n",
       "</div>"
      ],
      "text/plain": [
       "     movieId                title  genres\n",
       "218      220  Castle Freak (1995)  Horror"
      ]
     },
     "execution_count": 13,
     "metadata": {},
     "output_type": "execute_result"
    }
   ],
   "source": [
    "lowest_rating = movie_rating['rating'].idxmin()\n",
    "movies[movies['movieId'] == lowest_rating]"
   ]
  },
  {
   "cell_type": "code",
   "execution_count": 14,
   "id": "fe77475a",
   "metadata": {},
   "outputs": [
    {
     "data": {
      "application/vnd.microsoft.datawrangler.viewer.v0+json": {
       "columns": [
        {
         "name": "index",
         "rawType": "int64",
         "type": "integer"
        },
        {
         "name": "movieId",
         "rawType": "int64",
         "type": "integer"
        },
        {
         "name": "title",
         "rawType": "object",
         "type": "string"
        },
        {
         "name": "genres",
         "rawType": "object",
         "type": "string"
        }
       ],
       "conversionMethod": "pd.DataFrame",
       "ref": "b386dce8-7e67-4a57-8ecc-9a3f20909500",
       "rows": [
        [
         "0",
         "1",
         "Toy Story (1995)",
         "Adventure|Animation|Children|Comedy|Fantasy"
        ]
       ],
       "shape": {
        "columns": 3,
        "rows": 1
       }
      },
      "text/html": [
       "<div>\n",
       "<style scoped>\n",
       "    .dataframe tbody tr th:only-of-type {\n",
       "        vertical-align: middle;\n",
       "    }\n",
       "\n",
       "    .dataframe tbody tr th {\n",
       "        vertical-align: top;\n",
       "    }\n",
       "\n",
       "    .dataframe thead th {\n",
       "        text-align: right;\n",
       "    }\n",
       "</style>\n",
       "<table border=\"1\" class=\"dataframe\">\n",
       "  <thead>\n",
       "    <tr style=\"text-align: right;\">\n",
       "      <th></th>\n",
       "      <th>movieId</th>\n",
       "      <th>title</th>\n",
       "      <th>genres</th>\n",
       "    </tr>\n",
       "  </thead>\n",
       "  <tbody>\n",
       "    <tr>\n",
       "      <th>0</th>\n",
       "      <td>1</td>\n",
       "      <td>Toy Story (1995)</td>\n",
       "      <td>Adventure|Animation|Children|Comedy|Fantasy</td>\n",
       "    </tr>\n",
       "  </tbody>\n",
       "</table>\n",
       "</div>"
      ],
      "text/plain": [
       "   movieId             title                                       genres\n",
       "0        1  Toy Story (1995)  Adventure|Animation|Children|Comedy|Fantasy"
      ]
     },
     "execution_count": 14,
     "metadata": {},
     "output_type": "execute_result"
    }
   ],
   "source": [
    "highest_rating = movie_rating['rating'].idxmax()\n",
    "movies[movies['movieId'] == highest_rating]"
   ]
  },
  {
   "cell_type": "code",
   "execution_count": 15,
   "id": "244e9293",
   "metadata": {},
   "outputs": [
    {
     "data": {
      "application/vnd.microsoft.datawrangler.viewer.v0+json": {
       "columns": [
        {
         "name": "index",
         "rawType": "int64",
         "type": "integer"
        },
        {
         "name": "userId",
         "rawType": "int64",
         "type": "integer"
        },
        {
         "name": "movieId",
         "rawType": "int64",
         "type": "integer"
        },
        {
         "name": "rating",
         "rawType": "float64",
         "type": "float"
        },
        {
         "name": "timestamp",
         "rawType": "int64",
         "type": "integer"
        }
       ],
       "conversionMethod": "pd.DataFrame",
       "ref": "d7dea730-4d91-444e-91cb-2e369cbc2150",
       "rows": [
        [
         "559",
         "10",
         "1",
         "2.5",
         "1169265231"
        ],
        [
         "1219",
         "11",
         "1",
         "3.0",
         "850085076"
        ],
        [
         "1733",
         "17",
         "1",
         "4.0",
         "1027305751"
        ],
        [
         "1957",
         "19",
         "1",
         "3.0",
         "974704488"
        ],
        [
         "2004",
         "20",
         "1",
         "5.0",
         "1553184230"
        ],
        [
         "2242",
         "23",
         "1",
         "3.0",
         "1570189932"
        ],
        [
         "2305",
         "24",
         "1",
         "4.0",
         "945353745"
        ],
        [
         "2532",
         "28",
         "1",
         "4.0",
         "961438127"
        ],
        [
         "5657",
         "33",
         "1",
         "5.0",
         "1226362069"
        ],
        [
         "5922",
         "34",
         "1",
         "4.0",
         "1194741818"
        ],
        [
         "6548",
         "36",
         "1",
         "3.0",
         "1420839739"
        ],
        [
         "6673",
         "37",
         "1",
         "1.0",
         "992728185"
        ],
        [
         "7180",
         "43",
         "1",
         "5.0",
         "834322449"
        ],
        [
         "7457",
         "46",
         "1",
         "4.0",
         "1443951415"
        ],
        [
         "7927",
         "51",
         "1",
         "3.5",
         "1151349244"
        ],
        [
         "8095",
         "54",
         "1",
         "4.0",
         "864128211"
        ],
        [
         "8258",
         "57",
         "1",
         "4.0",
         "852581231"
        ],
        [
         "8333",
         "59",
         "1",
         "4.0",
         "1030395462"
        ],
        [
         "8750",
         "60",
         "1",
         "3.0",
         "1441153002"
        ],
        [
         "8845",
         "62",
         "1",
         "5.0",
         "916455356"
        ],
        [
         "9118",
         "64",
         "1",
         "5.0",
         "1472141781"
        ],
        [
         "9361",
         "65",
         "1",
         "2.0",
         "1119296373"
        ],
        [
         "10078",
         "67",
         "1",
         "4.0",
         "1167599520"
        ],
        [
         "10380",
         "70",
         "1",
         "4.0",
         "1079063871"
        ],
        [
         "11213",
         "74",
         "1",
         "4.5",
         "1450132823"
        ],
        [
         "11450",
         "76",
         "1",
         "4.5",
         "1549660956"
        ],
        [
         "11976",
         "78",
         "1",
         "4.0",
         "902094230"
        ],
        [
         "12771",
         "83",
         "1",
         "3.0",
         "1458856171"
        ],
        [
         "12921",
         "84",
         "1",
         "4.0",
         "1433889623"
        ],
        [
         "13210",
         "85",
         "1",
         "4.0",
         "1007022066"
        ],
        [
         "13575",
         "87",
         "1",
         "3.5",
         "1131311060"
        ],
        [
         "13970",
         "88",
         "1",
         "4.0",
         "974646559"
        ],
        [
         "14494",
         "93",
         "1",
         "4.0",
         "982639553"
        ],
        [
         "14915",
         "95",
         "1",
         "4.5",
         "1160448269"
        ],
        [
         "15175",
         "100",
         "1",
         "5.0",
         "1484950887"
        ],
        [
         "15564",
         "103",
         "1",
         "4.0",
         "1280168107"
        ],
        [
         "15890",
         "106",
         "1",
         "2.5",
         "1503691931"
        ],
        [
         "16001",
         "107",
         "1",
         "3.5",
         "1154723234"
        ],
        [
         "16256",
         "109",
         "1",
         "4.0",
         "1254982916"
        ],
        [
         "17413",
         "115",
         "1",
         "4.0",
         "1107711745"
        ],
        [
         "17974",
         "117",
         "1",
         "3.0",
         "1112264677"
        ],
        [
         "18032",
         "118",
         "1",
         "4.5",
         "1192391071"
        ],
        [
         "18216",
         "119",
         "1",
         "3.5",
         "1114545369"
        ],
        [
         "18299",
         "120",
         "1",
         "5.0",
         "1665192240"
        ],
        [
         "19330",
         "128",
         "1",
         "3.5",
         "1669606094"
        ],
        [
         "19873",
         "130",
         "1",
         "3.0",
         "849009136"
        ],
        [
         "20020",
         "131",
         "1",
         "4.0",
         "1242557805"
        ],
        [
         "20263",
         "135",
         "1",
         "5.0",
         "1369836212"
        ],
        [
         "20622",
         "138",
         "1",
         "3.0",
         "1116392088"
        ],
        [
         "21060",
         "139",
         "1",
         "4.0",
         "1175150052"
        ]
       ],
       "shape": {
        "columns": 4,
        "rows": 68997
       }
      },
      "text/html": [
       "<div>\n",
       "<style scoped>\n",
       "    .dataframe tbody tr th:only-of-type {\n",
       "        vertical-align: middle;\n",
       "    }\n",
       "\n",
       "    .dataframe tbody tr th {\n",
       "        vertical-align: top;\n",
       "    }\n",
       "\n",
       "    .dataframe thead th {\n",
       "        text-align: right;\n",
       "    }\n",
       "</style>\n",
       "<table border=\"1\" class=\"dataframe\">\n",
       "  <thead>\n",
       "    <tr style=\"text-align: right;\">\n",
       "      <th></th>\n",
       "      <th>userId</th>\n",
       "      <th>movieId</th>\n",
       "      <th>rating</th>\n",
       "      <th>timestamp</th>\n",
       "    </tr>\n",
       "  </thead>\n",
       "  <tbody>\n",
       "    <tr>\n",
       "      <th>559</th>\n",
       "      <td>10</td>\n",
       "      <td>1</td>\n",
       "      <td>2.5</td>\n",
       "      <td>1169265231</td>\n",
       "    </tr>\n",
       "    <tr>\n",
       "      <th>1219</th>\n",
       "      <td>11</td>\n",
       "      <td>1</td>\n",
       "      <td>3.0</td>\n",
       "      <td>850085076</td>\n",
       "    </tr>\n",
       "    <tr>\n",
       "      <th>1733</th>\n",
       "      <td>17</td>\n",
       "      <td>1</td>\n",
       "      <td>4.0</td>\n",
       "      <td>1027305751</td>\n",
       "    </tr>\n",
       "    <tr>\n",
       "      <th>1957</th>\n",
       "      <td>19</td>\n",
       "      <td>1</td>\n",
       "      <td>3.0</td>\n",
       "      <td>974704488</td>\n",
       "    </tr>\n",
       "    <tr>\n",
       "      <th>2004</th>\n",
       "      <td>20</td>\n",
       "      <td>1</td>\n",
       "      <td>5.0</td>\n",
       "      <td>1553184230</td>\n",
       "    </tr>\n",
       "    <tr>\n",
       "      <th>...</th>\n",
       "      <td>...</td>\n",
       "      <td>...</td>\n",
       "      <td>...</td>\n",
       "      <td>...</td>\n",
       "    </tr>\n",
       "    <tr>\n",
       "      <th>31998476</th>\n",
       "      <td>200938</td>\n",
       "      <td>1</td>\n",
       "      <td>4.5</td>\n",
       "      <td>1305857133</td>\n",
       "    </tr>\n",
       "    <tr>\n",
       "      <th>31998887</th>\n",
       "      <td>200943</td>\n",
       "      <td>1</td>\n",
       "      <td>3.5</td>\n",
       "      <td>1274577920</td>\n",
       "    </tr>\n",
       "    <tr>\n",
       "      <th>31999478</th>\n",
       "      <td>200944</td>\n",
       "      <td>1</td>\n",
       "      <td>4.0</td>\n",
       "      <td>1454247529</td>\n",
       "    </tr>\n",
       "    <tr>\n",
       "      <th>31999907</th>\n",
       "      <td>200947</td>\n",
       "      <td>1</td>\n",
       "      <td>4.0</td>\n",
       "      <td>1495973163</td>\n",
       "    </tr>\n",
       "    <tr>\n",
       "      <th>31999968</th>\n",
       "      <td>200948</td>\n",
       "      <td>1</td>\n",
       "      <td>5.0</td>\n",
       "      <td>1203438216</td>\n",
       "    </tr>\n",
       "  </tbody>\n",
       "</table>\n",
       "<p>68997 rows × 4 columns</p>\n",
       "</div>"
      ],
      "text/plain": [
       "          userId  movieId  rating   timestamp\n",
       "559           10        1     2.5  1169265231\n",
       "1219          11        1     3.0   850085076\n",
       "1733          17        1     4.0  1027305751\n",
       "1957          19        1     3.0   974704488\n",
       "2004          20        1     5.0  1553184230\n",
       "...          ...      ...     ...         ...\n",
       "31998476  200938        1     4.5  1305857133\n",
       "31998887  200943        1     3.5  1274577920\n",
       "31999478  200944        1     4.0  1454247529\n",
       "31999907  200947        1     4.0  1495973163\n",
       "31999968  200948        1     5.0  1203438216\n",
       "\n",
       "[68997 rows x 4 columns]"
      ]
     },
     "execution_count": 15,
     "metadata": {},
     "output_type": "execute_result"
    }
   ],
   "source": [
    "ratings[ratings['movieId'] == highest_rating]"
   ]
  },
  {
   "cell_type": "markdown",
   "id": "b4216bc0",
   "metadata": {},
   "source": [
    "<h2>Bayesian Average</h2>\n",
    "<p>Kita menggunakan bayesian average untuk mengitung rating movie</p>"
   ]
  },
  {
   "cell_type": "code",
   "execution_count": 16,
   "id": "46588cde",
   "metadata": {},
   "outputs": [
    {
     "data": {
      "application/vnd.microsoft.datawrangler.viewer.v0+json": {
       "columns": [
        {
         "name": "movieId",
         "rawType": "int64",
         "type": "integer"
        },
        {
         "name": "count",
         "rawType": "int64",
         "type": "integer"
        },
        {
         "name": "mean",
         "rawType": "float64",
         "type": "float"
        }
       ],
       "conversionMethod": "pd.DataFrame",
       "ref": "03da4443-b94e-4669-84e1-9f8d2da68289",
       "rows": [
        [
         "1",
         "68997",
         "3.8974375697494095"
        ],
        [
         "2",
         "28904",
         "3.2757576805978412"
        ],
        [
         "3",
         "13134",
         "3.1394472361809047"
        ],
        [
         "4",
         "2806",
         "2.8453314326443335"
        ],
        [
         "5",
         "13154",
         "3.0596016420860574"
        ]
       ],
       "shape": {
        "columns": 2,
        "rows": 5
       }
      },
      "text/html": [
       "<div>\n",
       "<style scoped>\n",
       "    .dataframe tbody tr th:only-of-type {\n",
       "        vertical-align: middle;\n",
       "    }\n",
       "\n",
       "    .dataframe tbody tr th {\n",
       "        vertical-align: top;\n",
       "    }\n",
       "\n",
       "    .dataframe thead th {\n",
       "        text-align: right;\n",
       "    }\n",
       "</style>\n",
       "<table border=\"1\" class=\"dataframe\">\n",
       "  <thead>\n",
       "    <tr style=\"text-align: right;\">\n",
       "      <th></th>\n",
       "      <th>count</th>\n",
       "      <th>mean</th>\n",
       "    </tr>\n",
       "    <tr>\n",
       "      <th>movieId</th>\n",
       "      <th></th>\n",
       "      <th></th>\n",
       "    </tr>\n",
       "  </thead>\n",
       "  <tbody>\n",
       "    <tr>\n",
       "      <th>1</th>\n",
       "      <td>68997</td>\n",
       "      <td>3.897438</td>\n",
       "    </tr>\n",
       "    <tr>\n",
       "      <th>2</th>\n",
       "      <td>28904</td>\n",
       "      <td>3.275758</td>\n",
       "    </tr>\n",
       "    <tr>\n",
       "      <th>3</th>\n",
       "      <td>13134</td>\n",
       "      <td>3.139447</td>\n",
       "    </tr>\n",
       "    <tr>\n",
       "      <th>4</th>\n",
       "      <td>2806</td>\n",
       "      <td>2.845331</td>\n",
       "    </tr>\n",
       "    <tr>\n",
       "      <th>5</th>\n",
       "      <td>13154</td>\n",
       "      <td>3.059602</td>\n",
       "    </tr>\n",
       "  </tbody>\n",
       "</table>\n",
       "</div>"
      ],
      "text/plain": [
       "         count      mean\n",
       "movieId                 \n",
       "1        68997  3.897438\n",
       "2        28904  3.275758\n",
       "3        13134  3.139447\n",
       "4         2806  2.845331\n",
       "5        13154  3.059602"
      ]
     },
     "execution_count": 16,
     "metadata": {},
     "output_type": "execute_result"
    }
   ],
   "source": [
    "movie_stats = ratings.groupby('movieId')['rating'].agg(['count', 'mean'])\n",
    "movie_stats.head()"
   ]
  },
  {
   "cell_type": "code",
   "execution_count": 17,
   "id": "335eacb7",
   "metadata": {},
   "outputs": [],
   "source": [
    "C = movie_stats['count'].mean()\n",
    "m = movie_stats['mean'].mean()\n",
    "\n",
    "def bayesian_average(ratings):\n",
    "    bayesian_avg = (C * m + ratings.sum()) / (C + ratings.count())\n",
    "    return round(bayesian_avg, 3)"
   ]
  },
  {
   "cell_type": "code",
   "execution_count": 18,
   "id": "69a2c3a3",
   "metadata": {},
   "outputs": [
    {
     "data": {
      "text/plain": [
       "3.893"
      ]
     },
     "execution_count": 18,
     "metadata": {},
     "output_type": "execute_result"
    }
   ],
   "source": [
    "toy_story = ratings[ratings['movieId'] == 1]['rating']\n",
    "bayesian_average(toy_story)\n"
   ]
  },
  {
   "cell_type": "code",
   "execution_count": 19,
   "id": "90feaa72",
   "metadata": {},
   "outputs": [],
   "source": [
    "bayesian_avg_ratings = ratings.groupby('movieId')['rating'].agg(bayesian_average).reset_index()"
   ]
  },
  {
   "cell_type": "code",
   "execution_count": 20,
   "id": "0159d231",
   "metadata": {},
   "outputs": [],
   "source": [
    "bayesian_avg_ratings.columns = ['movieId', 'bayesian_average']\n",
    "movie_stats = movie_stats.merge(bayesian_avg_ratings, on='movieId')"
   ]
  },
  {
   "cell_type": "code",
   "execution_count": 21,
   "id": "4fdf335e",
   "metadata": {},
   "outputs": [
    {
     "data": {
      "application/vnd.microsoft.datawrangler.viewer.v0+json": {
       "columns": [
        {
         "name": "index",
         "rawType": "int64",
         "type": "integer"
        },
        {
         "name": "movieId",
         "rawType": "int64",
         "type": "integer"
        },
        {
         "name": "count",
         "rawType": "int64",
         "type": "integer"
        },
        {
         "name": "mean",
         "rawType": "float64",
         "type": "float"
        },
        {
         "name": "bayesian_average",
         "rawType": "float64",
         "type": "float"
        }
       ],
       "conversionMethod": "pd.DataFrame",
       "ref": "6bc708f3-14dd-478d-b3d7-d630917b0133",
       "rows": [
        [
         "0",
         "1",
         "68997",
         "3.8974375697494095",
         "3.893"
        ],
        [
         "1",
         "2",
         "28904",
         "3.2757576805978412",
         "3.272"
        ],
        [
         "2",
         "3",
         "13134",
         "3.1394472361809047",
         "3.136"
        ],
        [
         "3",
         "4",
         "2806",
         "2.8453314326443335",
         "2.864"
        ],
        [
         "4",
         "5",
         "13154",
         "3.0596016420860574",
         "3.058"
        ]
       ],
       "shape": {
        "columns": 4,
        "rows": 5
       }
      },
      "text/html": [
       "<div>\n",
       "<style scoped>\n",
       "    .dataframe tbody tr th:only-of-type {\n",
       "        vertical-align: middle;\n",
       "    }\n",
       "\n",
       "    .dataframe tbody tr th {\n",
       "        vertical-align: top;\n",
       "    }\n",
       "\n",
       "    .dataframe thead th {\n",
       "        text-align: right;\n",
       "    }\n",
       "</style>\n",
       "<table border=\"1\" class=\"dataframe\">\n",
       "  <thead>\n",
       "    <tr style=\"text-align: right;\">\n",
       "      <th></th>\n",
       "      <th>movieId</th>\n",
       "      <th>count</th>\n",
       "      <th>mean</th>\n",
       "      <th>bayesian_average</th>\n",
       "    </tr>\n",
       "  </thead>\n",
       "  <tbody>\n",
       "    <tr>\n",
       "      <th>0</th>\n",
       "      <td>1</td>\n",
       "      <td>68997</td>\n",
       "      <td>3.897438</td>\n",
       "      <td>3.893</td>\n",
       "    </tr>\n",
       "    <tr>\n",
       "      <th>1</th>\n",
       "      <td>2</td>\n",
       "      <td>28904</td>\n",
       "      <td>3.275758</td>\n",
       "      <td>3.272</td>\n",
       "    </tr>\n",
       "    <tr>\n",
       "      <th>2</th>\n",
       "      <td>3</td>\n",
       "      <td>13134</td>\n",
       "      <td>3.139447</td>\n",
       "      <td>3.136</td>\n",
       "    </tr>\n",
       "    <tr>\n",
       "      <th>3</th>\n",
       "      <td>4</td>\n",
       "      <td>2806</td>\n",
       "      <td>2.845331</td>\n",
       "      <td>2.864</td>\n",
       "    </tr>\n",
       "    <tr>\n",
       "      <th>4</th>\n",
       "      <td>5</td>\n",
       "      <td>13154</td>\n",
       "      <td>3.059602</td>\n",
       "      <td>3.058</td>\n",
       "    </tr>\n",
       "  </tbody>\n",
       "</table>\n",
       "</div>"
      ],
      "text/plain": [
       "   movieId  count      mean  bayesian_average\n",
       "0        1  68997  3.897438             3.893\n",
       "1        2  28904  3.275758             3.272\n",
       "2        3  13134  3.139447             3.136\n",
       "3        4   2806  2.845331             2.864\n",
       "4        5  13154  3.059602             3.058"
      ]
     },
     "execution_count": 21,
     "metadata": {},
     "output_type": "execute_result"
    }
   ],
   "source": [
    "movie_stats.head()"
   ]
  },
  {
   "cell_type": "code",
   "execution_count": 22,
   "id": "ccde4714",
   "metadata": {},
   "outputs": [],
   "source": [
    "movie_stats = movie_stats.merge(movies[['movieId', 'title']])"
   ]
  },
  {
   "cell_type": "code",
   "execution_count": 23,
   "id": "fff7add5",
   "metadata": {},
   "outputs": [
    {
     "data": {
      "application/vnd.microsoft.datawrangler.viewer.v0+json": {
       "columns": [
        {
         "name": "index",
         "rawType": "int64",
         "type": "integer"
        },
        {
         "name": "movieId",
         "rawType": "int64",
         "type": "integer"
        },
        {
         "name": "count",
         "rawType": "int64",
         "type": "integer"
        },
        {
         "name": "mean",
         "rawType": "float64",
         "type": "float"
        },
        {
         "name": "bayesian_average",
         "rawType": "float64",
         "type": "float"
        },
        {
         "name": "title",
         "rawType": "object",
         "type": "string"
        }
       ],
       "conversionMethod": "pd.DataFrame",
       "ref": "c20b199d-f742-4379-a065-5c8249a676b8",
       "rows": [
        [
         "3495",
         "3593",
         "5010",
         "1.5672654690618761",
         "1.668",
         "Battlefield Earth (2000)"
        ],
        [
         "4670",
         "4775",
         "757",
         "1.1287978863936592",
         "1.755",
         "Glitter (2001)"
        ],
        [
         "6465",
         "6587",
         "838",
         "1.204057279236277",
         "1.765",
         "Gigli (2003)"
        ],
        [
         "11353",
         "50798",
         "1492",
         "1.4631367292225201",
         "1.775",
         "Epic Movie (2007)"
        ],
        [
         "9607",
         "31698",
         "832",
         "1.2205528846153846",
         "1.779",
         "Son of the Mask (2005)"
        ],
        [
         "12618",
         "61348",
         "715",
         "1.2482517482517483",
         "1.857",
         "Disaster Movie (2008)"
        ],
        [
         "6361",
         "6483",
         "472",
         "1.00635593220339",
         "1.897",
         "From Justin to Kelly (2003)"
        ],
        [
         "7955",
         "8666",
         "2969",
         "1.7999326372515998",
         "1.936",
         "Catwoman (2004)"
        ],
        [
         "6360",
         "6482",
         "2233",
         "1.7586206896551724",
         "1.939",
         "Dumb and Dumberer: When Harry Met Lloyd (2003)"
        ],
        [
         "2464",
         "2555",
         "1535",
         "1.6817589576547232",
         "1.944",
         "Baby Geniuses (1999)"
        ],
        [
         "1688",
         "1760",
         "2970",
         "1.8102693602693603",
         "1.945",
         "Spice World (1997)"
        ],
        [
         "1447",
         "1495",
         "770",
         "1.4344155844155844",
         "1.953",
         "Turbo: A Power Rangers Movie (1997)"
        ],
        [
         "12102",
         "57532",
         "1139",
         "1.6299385425812116",
         "1.973",
         "Meet the Spartans (2008)"
        ],
        [
         "10653",
         "43919",
         "1086",
         "1.617403314917127",
         "1.976",
         "Date Movie (2006)"
        ],
        [
         "1643",
         "1707",
         "3635",
         "1.8779917469050893",
         "1.984",
         "Home Alone 3 (1997)"
        ],
        [
         "1501",
         "1556",
         "5893",
         "1.9201595112845748",
         "1.986",
         "Speed 2: Cruise Control (1997)"
        ],
        [
         "794",
         "810",
         "2085",
         "1.8151079136690647",
         "1.998",
         "Kazaam (1996)"
        ],
        [
         "2292",
         "2383",
         "2324",
         "1.8466006884681583",
         "2.009",
         "Police Academy 6: City Under Siege (1989)"
        ],
        [
         "13211",
         "67867",
         "745",
         "1.5053691275167784",
         "2.011",
         "Dragonball Evolution (2009)"
        ],
        [
         "6750",
         "6872",
         "558",
         "1.3378136200716846",
         "2.012",
         "House of the Dead, The (2003)"
        ],
        [
         "3175",
         "3268",
         "2046",
         "1.8277126099706744",
         "2.012",
         "Stop! Or My Mom Will Shoot (1992)"
        ],
        [
         "14877",
         "78893",
         "2036",
         "1.8460216110019647",
         "2.028",
         "Last Airbender, The (2010)"
        ],
        [
         "1740",
         "1826",
         "440",
         "1.1977272727272728",
         "2.034",
         "Barney's Great Adventure (1998)"
        ],
        [
         "1353",
         "1389",
         "2149",
         "1.8650535132619823",
         "2.036",
         "Jaws 3-D (1983)"
        ],
        [
         "3466",
         "3564",
         "1786",
         "1.8325867861142218",
         "2.038",
         "Flintstones in Viva Rock Vegas, The (2000)"
        ],
        [
         "388",
         "393",
         "2611",
         "1.9132516277288396",
         "2.052",
         "Street Fighter (1994)"
        ],
        [
         "1345",
         "1381",
         "3823",
         "1.9730578080041852",
         "2.066",
         "Grease 2 (1982)"
        ],
        [
         "9551",
         "31424",
         "611",
         "1.4844517184942716",
         "2.067",
         "Alone in the Dark (2005)"
        ],
        [
         "1538",
         "1595",
         "991",
         "1.7214934409687184",
         "2.077",
         "Free Willy 3: The Rescue (1997)"
        ],
        [
         "179",
         "181",
         "2924",
         "1.9613543091655268",
         "2.081",
         "Mighty Morphin Power Rangers: The Movie (1995)"
        ],
        [
         "5562",
         "5672",
         "581",
         "1.4845094664371772",
         "2.085",
         "Pokemon 4 Ever (a.k.a. Pokémon 4: The Movie) (2002)"
        ],
        [
         "17309",
         "90890",
         "733",
         "1.6173260572987722",
         "2.09",
         "Jack and Jill (2011)"
        ],
        [
         "2715",
         "2807",
         "1390",
         "1.8406474820143885",
         "2.09",
         "Universal Soldier: The Return (1999)"
        ],
        [
         "2291",
         "2382",
         "2512",
         "1.953423566878981",
         "2.091",
         "Police Academy 5: Assignment: Miami Beach (1988)"
        ],
        [
         "1892",
         "1981",
         "1426",
         "1.8548387096774193",
         "2.096",
         "Friday the 13th Part VIII: Jason Takes Manhattan (1989)"
        ],
        [
         "2552",
         "2643",
         "3654",
         "2.001505199781062",
         "2.096",
         "Superman IV: The Quest for Peace (1987)"
        ],
        [
         "4021",
         "4124",
         "1407",
         "1.8606965174129353",
         "2.104",
         "Jaws: The Revenge (1987)"
        ],
        [
         "1671",
         "1739",
         "661",
         "1.592284417549168",
         "2.107",
         "3 Ninjas: High Noon On Mega Mountain (1998)"
        ],
        [
         "5345",
         "5452",
         "2465",
         "1.975659229208925",
         "2.113",
         "Look Who's Talking Now (1993)"
        ],
        [
         "7762",
         "8387",
         "1122",
         "1.820855614973262",
         "2.12",
         "Police Academy: Mission to Moscow (1994)"
        ],
        [
         "2707",
         "2799",
         "1256",
         "1.8523089171974523",
         "2.12",
         "Problem Child 2 (1991)"
        ],
        [
         "2725",
         "2817",
         "722",
         "1.6703601108033241",
         "2.13",
         "Aces: Iron Eagle III (1992)"
        ],
        [
         "540",
         "546",
         "6169",
         "2.078132598476252",
         "2.132",
         "Super Mario Bros. (1993)"
        ],
        [
         "8146",
         "8859",
         "257",
         "0.8657587548638133",
         "2.141",
         "SuperBabies: Baby Geniuses 2 (2004)"
        ],
        [
         "1451",
         "1499",
         "6943",
         "2.0985164914302175",
         "2.145",
         "Anaconda (1997)"
        ],
        [
         "4989",
         "5094",
         "1074",
         "1.845903165735568",
         "2.148",
         "Rollerball (2002)"
        ],
        [
         "2295",
         "2386",
         "603",
         "1.62106135986733",
         "2.155",
         "Jerry Springer: Ringmaster (1998)"
        ],
        [
         "1542",
         "1599",
         "607",
         "1.6317957166392092",
         "2.16",
         "Steel (1997)"
        ],
        [
         "722",
         "737",
         "4695",
         "2.0955271565495206",
         "2.163",
         "Barb Wire (1996)"
        ],
        [
         "2724",
         "2816",
         "985",
         "1.8416243654822335",
         "2.165",
         "Iron Eagle II (1988)"
        ]
       ],
       "shape": {
        "columns": 5,
        "rows": 84432
       }
      },
      "text/html": [
       "<div>\n",
       "<style scoped>\n",
       "    .dataframe tbody tr th:only-of-type {\n",
       "        vertical-align: middle;\n",
       "    }\n",
       "\n",
       "    .dataframe tbody tr th {\n",
       "        vertical-align: top;\n",
       "    }\n",
       "\n",
       "    .dataframe thead th {\n",
       "        text-align: right;\n",
       "    }\n",
       "</style>\n",
       "<table border=\"1\" class=\"dataframe\">\n",
       "  <thead>\n",
       "    <tr style=\"text-align: right;\">\n",
       "      <th></th>\n",
       "      <th>movieId</th>\n",
       "      <th>count</th>\n",
       "      <th>mean</th>\n",
       "      <th>bayesian_average</th>\n",
       "      <th>title</th>\n",
       "    </tr>\n",
       "  </thead>\n",
       "  <tbody>\n",
       "    <tr>\n",
       "      <th>3495</th>\n",
       "      <td>3593</td>\n",
       "      <td>5010</td>\n",
       "      <td>1.567265</td>\n",
       "      <td>1.668</td>\n",
       "      <td>Battlefield Earth (2000)</td>\n",
       "    </tr>\n",
       "    <tr>\n",
       "      <th>4670</th>\n",
       "      <td>4775</td>\n",
       "      <td>757</td>\n",
       "      <td>1.128798</td>\n",
       "      <td>1.755</td>\n",
       "      <td>Glitter (2001)</td>\n",
       "    </tr>\n",
       "    <tr>\n",
       "      <th>6465</th>\n",
       "      <td>6587</td>\n",
       "      <td>838</td>\n",
       "      <td>1.204057</td>\n",
       "      <td>1.765</td>\n",
       "      <td>Gigli (2003)</td>\n",
       "    </tr>\n",
       "    <tr>\n",
       "      <th>11353</th>\n",
       "      <td>50798</td>\n",
       "      <td>1492</td>\n",
       "      <td>1.463137</td>\n",
       "      <td>1.775</td>\n",
       "      <td>Epic Movie (2007)</td>\n",
       "    </tr>\n",
       "    <tr>\n",
       "      <th>9607</th>\n",
       "      <td>31698</td>\n",
       "      <td>832</td>\n",
       "      <td>1.220553</td>\n",
       "      <td>1.779</td>\n",
       "      <td>Son of the Mask (2005)</td>\n",
       "    </tr>\n",
       "    <tr>\n",
       "      <th>...</th>\n",
       "      <td>...</td>\n",
       "      <td>...</td>\n",
       "      <td>...</td>\n",
       "      <td>...</td>\n",
       "      <td>...</td>\n",
       "    </tr>\n",
       "    <tr>\n",
       "      <th>49</th>\n",
       "      <td>50</td>\n",
       "      <td>67750</td>\n",
       "      <td>4.265070</td>\n",
       "      <td>4.258</td>\n",
       "      <td>Usual Suspects, The (1995)</td>\n",
       "    </tr>\n",
       "    <tr>\n",
       "      <th>58698</th>\n",
       "      <td>202439</td>\n",
       "      <td>11670</td>\n",
       "      <td>4.312254</td>\n",
       "      <td>4.271</td>\n",
       "      <td>Parasite (2019)</td>\n",
       "    </tr>\n",
       "    <tr>\n",
       "      <th>39306</th>\n",
       "      <td>159817</td>\n",
       "      <td>2948</td>\n",
       "      <td>4.444369</td>\n",
       "      <td>4.280</td>\n",
       "      <td>Planet Earth (2006)</td>\n",
       "    </tr>\n",
       "    <tr>\n",
       "      <th>840</th>\n",
       "      <td>858</td>\n",
       "      <td>66440</td>\n",
       "      <td>4.317030</td>\n",
       "      <td>4.310</td>\n",
       "      <td>Godfather, The (1972)</td>\n",
       "    </tr>\n",
       "    <tr>\n",
       "      <th>314</th>\n",
       "      <td>318</td>\n",
       "      <td>102929</td>\n",
       "      <td>4.404614</td>\n",
       "      <td>4.399</td>\n",
       "      <td>Shawshank Redemption, The (1994)</td>\n",
       "    </tr>\n",
       "  </tbody>\n",
       "</table>\n",
       "<p>84432 rows × 5 columns</p>\n",
       "</div>"
      ],
      "text/plain": [
       "       movieId   count      mean  bayesian_average  \\\n",
       "3495      3593    5010  1.567265             1.668   \n",
       "4670      4775     757  1.128798             1.755   \n",
       "6465      6587     838  1.204057             1.765   \n",
       "11353    50798    1492  1.463137             1.775   \n",
       "9607     31698     832  1.220553             1.779   \n",
       "...        ...     ...       ...               ...   \n",
       "49          50   67750  4.265070             4.258   \n",
       "58698   202439   11670  4.312254             4.271   \n",
       "39306   159817    2948  4.444369             4.280   \n",
       "840        858   66440  4.317030             4.310   \n",
       "314        318  102929  4.404614             4.399   \n",
       "\n",
       "                                  title  \n",
       "3495           Battlefield Earth (2000)  \n",
       "4670                     Glitter (2001)  \n",
       "6465                       Gigli (2003)  \n",
       "11353                 Epic Movie (2007)  \n",
       "9607             Son of the Mask (2005)  \n",
       "...                                 ...  \n",
       "49           Usual Suspects, The (1995)  \n",
       "58698                   Parasite (2019)  \n",
       "39306               Planet Earth (2006)  \n",
       "840               Godfather, The (1972)  \n",
       "314    Shawshank Redemption, The (1994)  \n",
       "\n",
       "[84432 rows x 5 columns]"
      ]
     },
     "execution_count": 23,
     "metadata": {},
     "output_type": "execute_result"
    }
   ],
   "source": [
    "movie_stats.sort_values(by='bayesian_average', ascending=True)"
   ]
  },
  {
   "cell_type": "code",
   "execution_count": 24,
   "id": "aaf6b239",
   "metadata": {},
   "outputs": [],
   "source": [
    "movie_stats.to_csv(\"movie_stats.csv\")"
   ]
  },
  {
   "cell_type": "markdown",
   "id": "dc217f19",
   "metadata": {},
   "source": [
    "<h2>Sekarang kita fokus dengan genre movie</h2>"
   ]
  },
  {
   "cell_type": "code",
   "execution_count": 25,
   "id": "47673490",
   "metadata": {},
   "outputs": [
    {
     "data": {
      "application/vnd.microsoft.datawrangler.viewer.v0+json": {
       "columns": [
        {
         "name": "index",
         "rawType": "int64",
         "type": "integer"
        },
        {
         "name": "movieId",
         "rawType": "int64",
         "type": "integer"
        },
        {
         "name": "title",
         "rawType": "object",
         "type": "string"
        },
        {
         "name": "genres",
         "rawType": "object",
         "type": "string"
        }
       ],
       "conversionMethod": "pd.DataFrame",
       "ref": "1b0ff11d-8a0a-4736-ad51-7d8e40c7cb80",
       "rows": [
        [
         "0",
         "1",
         "Toy Story (1995)",
         "['Adventure', 'Animation', 'Children', 'Comedy', 'Fantasy']"
        ],
        [
         "1",
         "2",
         "Jumanji (1995)",
         "['Adventure', 'Children', 'Fantasy']"
        ],
        [
         "2",
         "3",
         "Grumpier Old Men (1995)",
         "['Comedy', 'Romance']"
        ],
        [
         "3",
         "4",
         "Waiting to Exhale (1995)",
         "['Comedy', 'Drama', 'Romance']"
        ],
        [
         "4",
         "5",
         "Father of the Bride Part II (1995)",
         "['Comedy']"
        ]
       ],
       "shape": {
        "columns": 3,
        "rows": 5
       }
      },
      "text/html": [
       "<div>\n",
       "<style scoped>\n",
       "    .dataframe tbody tr th:only-of-type {\n",
       "        vertical-align: middle;\n",
       "    }\n",
       "\n",
       "    .dataframe tbody tr th {\n",
       "        vertical-align: top;\n",
       "    }\n",
       "\n",
       "    .dataframe thead th {\n",
       "        text-align: right;\n",
       "    }\n",
       "</style>\n",
       "<table border=\"1\" class=\"dataframe\">\n",
       "  <thead>\n",
       "    <tr style=\"text-align: right;\">\n",
       "      <th></th>\n",
       "      <th>movieId</th>\n",
       "      <th>title</th>\n",
       "      <th>genres</th>\n",
       "    </tr>\n",
       "  </thead>\n",
       "  <tbody>\n",
       "    <tr>\n",
       "      <th>0</th>\n",
       "      <td>1</td>\n",
       "      <td>Toy Story (1995)</td>\n",
       "      <td>[Adventure, Animation, Children, Comedy, Fantasy]</td>\n",
       "    </tr>\n",
       "    <tr>\n",
       "      <th>1</th>\n",
       "      <td>2</td>\n",
       "      <td>Jumanji (1995)</td>\n",
       "      <td>[Adventure, Children, Fantasy]</td>\n",
       "    </tr>\n",
       "    <tr>\n",
       "      <th>2</th>\n",
       "      <td>3</td>\n",
       "      <td>Grumpier Old Men (1995)</td>\n",
       "      <td>[Comedy, Romance]</td>\n",
       "    </tr>\n",
       "    <tr>\n",
       "      <th>3</th>\n",
       "      <td>4</td>\n",
       "      <td>Waiting to Exhale (1995)</td>\n",
       "      <td>[Comedy, Drama, Romance]</td>\n",
       "    </tr>\n",
       "    <tr>\n",
       "      <th>4</th>\n",
       "      <td>5</td>\n",
       "      <td>Father of the Bride Part II (1995)</td>\n",
       "      <td>[Comedy]</td>\n",
       "    </tr>\n",
       "  </tbody>\n",
       "</table>\n",
       "</div>"
      ],
      "text/plain": [
       "   movieId                               title  \\\n",
       "0        1                    Toy Story (1995)   \n",
       "1        2                      Jumanji (1995)   \n",
       "2        3             Grumpier Old Men (1995)   \n",
       "3        4            Waiting to Exhale (1995)   \n",
       "4        5  Father of the Bride Part II (1995)   \n",
       "\n",
       "                                              genres  \n",
       "0  [Adventure, Animation, Children, Comedy, Fantasy]  \n",
       "1                     [Adventure, Children, Fantasy]  \n",
       "2                                  [Comedy, Romance]  \n",
       "3                           [Comedy, Drama, Romance]  \n",
       "4                                           [Comedy]  "
      ]
     },
     "execution_count": 25,
     "metadata": {},
     "output_type": "execute_result"
    }
   ],
   "source": [
    "movies['genres'] = movies['genres'].apply(lambda x: x.split('|'))\n",
    "movies.head()"
   ]
  },
  {
   "cell_type": "code",
   "execution_count": 26,
   "id": "8b5ccfe8",
   "metadata": {},
   "outputs": [
    {
     "name": "stdout",
     "output_type": "stream",
     "text": [
      "There are: 20 genres\n"
     ]
    },
    {
     "data": {
      "text/plain": [
       "Counter({'Drama': 34175,\n",
       "         'Comedy': 23124,\n",
       "         'Thriller': 11823,\n",
       "         'Romance': 10369,\n",
       "         'Action': 9668,\n",
       "         'Documentary': 9363,\n",
       "         'Horror': 8654,\n",
       "         '(no genres listed)': 7080,\n",
       "         'Crime': 6976,\n",
       "         'Adventure': 5402,\n",
       "         'Sci-Fi': 4907,\n",
       "         'Animation': 4617,\n",
       "         'Children': 4520,\n",
       "         'Mystery': 4013,\n",
       "         'Fantasy': 3851,\n",
       "         'War': 2325,\n",
       "         'Western': 1696,\n",
       "         'Musical': 1059,\n",
       "         'Film-Noir': 353,\n",
       "         'IMAX': 195})"
      ]
     },
     "execution_count": 26,
     "metadata": {},
     "output_type": "execute_result"
    }
   ],
   "source": [
    "from collections import Counter\n",
    "\n",
    "genre_frequency = Counter(g for genres in movies['genres'] for g in genres)\n",
    "\n",
    "print(f\"There are: {len(genre_frequency)} genres\")\n",
    "\n",
    "genre_frequency"
   ]
  },
  {
   "cell_type": "code",
   "execution_count": 27,
   "id": "355d7097",
   "metadata": {},
   "outputs": [
    {
     "name": "stdout",
     "output_type": "stream",
     "text": [
      "Most common genre: [('Drama', 34175), ('Comedy', 23124), ('Thriller', 11823), ('Romance', 10369), ('Action', 9668)]\n"
     ]
    }
   ],
   "source": [
    "print(F\"Most common genre: {genre_frequency.most_common(5)}\")"
   ]
  },
  {
   "cell_type": "code",
   "execution_count": 28,
   "id": "863c777a",
   "metadata": {},
   "outputs": [
    {
     "data": {
      "text/plain": [
       "(array([ 0,  1,  2,  3,  4,  5,  6,  7,  8,  9, 10, 11, 12, 13, 14, 15, 16,\n",
       "        17, 18, 19]),\n",
       " [Text(0, 0, 'Drama'),\n",
       "  Text(1, 0, 'Comedy'),\n",
       "  Text(2, 0, 'Thriller'),\n",
       "  Text(3, 0, 'Romance'),\n",
       "  Text(4, 0, 'Action'),\n",
       "  Text(5, 0, 'Documentary'),\n",
       "  Text(6, 0, 'Horror'),\n",
       "  Text(7, 0, '(no genres listed)'),\n",
       "  Text(8, 0, 'Crime'),\n",
       "  Text(9, 0, 'Adventure'),\n",
       "  Text(10, 0, 'Sci-Fi'),\n",
       "  Text(11, 0, 'Animation'),\n",
       "  Text(12, 0, 'Children'),\n",
       "  Text(13, 0, 'Mystery'),\n",
       "  Text(14, 0, 'Fantasy'),\n",
       "  Text(15, 0, 'War'),\n",
       "  Text(16, 0, 'Western'),\n",
       "  Text(17, 0, 'Musical'),\n",
       "  Text(18, 0, 'Film-Noir'),\n",
       "  Text(19, 0, 'IMAX')])"
      ]
     },
     "execution_count": 28,
     "metadata": {},
     "output_type": "execute_result"
    },
    {
     "data": {
      "image/png": "[encoded data removed]",
      "text/plain": [
       "<Figure size 640x480 with 1 Axes>"
      ]
     },
     "metadata": {},
     "output_type": "display_data"
    }
   ],
   "source": [
    "genre_frequency_df = pd.DataFrame([genre_frequency]).T.reset_index()\n",
    "genre_frequency_df.columns = ['genres', 'count']\n",
    "\n",
    "sns.barplot(x='genres', y='count', data=genre_frequency_df.sort_values(by='count', ascending=False))\n",
    "plt.xticks(rotation=90)"
   ]
  },
  {
   "cell_type": "markdown",
   "id": "064bb95e",
   "metadata": {},
   "source": [
    "<h2>Preprocessing data</h2>"
   ]
  },
  {
   "cell_type": "code",
   "execution_count": 29,
   "id": "72391314",
   "metadata": {},
   "outputs": [],
   "source": [
    "from scipy.sparse import csr_matrix"
   ]
  },
  {
   "cell_type": "code",
   "execution_count": 30,
   "id": "5dccd8e3",
   "metadata": {},
   "outputs": [
    {
     "data": {
      "application/vnd.microsoft.datawrangler.viewer.v0+json": {
       "columns": [
        {
         "name": "index",
         "rawType": "int64",
         "type": "integer"
        },
        {
         "name": "userId",
         "rawType": "int64",
         "type": "integer"
        },
        {
         "name": "movieId",
         "rawType": "int64",
         "type": "integer"
        },
        {
         "name": "rating",
         "rawType": "float64",
         "type": "float"
        },
        {
         "name": "timestamp",
         "rawType": "int64",
         "type": "integer"
        }
       ],
       "conversionMethod": "pd.DataFrame",
       "ref": "22ac7519-089b-4a20-86c4-3c0d5afe66b5",
       "rows": [
        [
         "0",
         "1",
         "17",
         "4.0",
         "944249077"
        ],
        [
         "1",
         "1",
         "25",
         "1.0",
         "944250228"
        ],
        [
         "2",
         "1",
         "29",
         "2.0",
         "943230976"
        ],
        [
         "3",
         "1",
         "30",
         "5.0",
         "944249077"
        ],
        [
         "4",
         "1",
         "32",
         "5.0",
         "943228858"
        ],
        [
         "5",
         "1",
         "34",
         "2.0",
         "943228491"
        ],
        [
         "6",
         "1",
         "36",
         "1.0",
         "944249008"
        ],
        [
         "7",
         "1",
         "80",
         "5.0",
         "944248943"
        ],
        [
         "8",
         "1",
         "110",
         "3.0",
         "943231119"
        ],
        [
         "9",
         "1",
         "111",
         "5.0",
         "944249008"
        ],
        [
         "10",
         "1",
         "161",
         "1.0",
         "943231162"
        ],
        [
         "11",
         "1",
         "166",
         "5.0",
         "943228442"
        ],
        [
         "12",
         "1",
         "176",
         "4.0",
         "944079496"
        ],
        [
         "13",
         "1",
         "223",
         "3.0",
         "944082810"
        ],
        [
         "14",
         "1",
         "232",
         "5.0",
         "943228442"
        ],
        [
         "15",
         "1",
         "260",
         "5.0",
         "943228696"
        ],
        [
         "16",
         "1",
         "302",
         "4.0",
         "944253272"
        ],
        [
         "17",
         "1",
         "306",
         "5.0",
         "944248888"
        ],
        [
         "18",
         "1",
         "307",
         "5.0",
         "944253207"
        ],
        [
         "19",
         "1",
         "322",
         "4.0",
         "944053801"
        ],
        [
         "20",
         "1",
         "345",
         "1.0",
         "944079376"
        ],
        [
         "21",
         "1",
         "356",
         "2.0",
         "943231120"
        ],
        [
         "22",
         "1",
         "527",
         "3.0",
         "943231120"
        ],
        [
         "23",
         "1",
         "541",
         "5.0",
         "943227521"
        ],
        [
         "24",
         "1",
         "562",
         "5.0",
         "944082810"
        ],
        [
         "25",
         "1",
         "593",
         "3.0",
         "944248888"
        ],
        [
         "26",
         "1",
         "608",
         "2.0",
         "944248943"
        ],
        [
         "27",
         "1",
         "645",
         "4.0",
         "944253272"
        ],
        [
         "28",
         "1",
         "800",
         "4.0",
         "944248888"
        ],
        [
         "29",
         "1",
         "835",
         "3.0",
         "944248888"
        ],
        [
         "30",
         "1",
         "838",
         "5.0",
         "943227632"
        ],
        [
         "31",
         "1",
         "908",
         "5.0",
         "944250228"
        ],
        [
         "32",
         "1",
         "909",
         "5.0",
         "944079417"
        ],
        [
         "33",
         "1",
         "912",
         "2.0",
         "943231120"
        ],
        [
         "34",
         "1",
         "915",
         "5.0",
         "944082760"
        ],
        [
         "35",
         "1",
         "916",
         "4.0",
         "944079376"
        ],
        [
         "36",
         "1",
         "923",
         "5.0",
         "944250228"
        ],
        [
         "37",
         "1",
         "926",
         "5.0",
         "944256398"
        ],
        [
         "38",
         "1",
         "927",
         "5.0",
         "944082894"
        ],
        [
         "39",
         "1",
         "933",
         "5.0",
         "944080344"
        ],
        [
         "40",
         "1",
         "971",
         "3.0",
         "944253272"
        ],
        [
         "41",
         "1",
         "1041",
         "5.0",
         "944253134"
        ],
        [
         "42",
         "1",
         "1056",
         "5.0",
         "944253207"
        ],
        [
         "43",
         "1",
         "1060",
         "2.0",
         "944080344"
        ],
        [
         "44",
         "1",
         "1080",
         "1.0",
         "944079496"
        ],
        [
         "45",
         "1",
         "1090",
         "5.0",
         "943231236"
        ],
        [
         "46",
         "1",
         "1094",
         "4.0",
         "943231236"
        ],
        [
         "47",
         "1",
         "1120",
         "1.0",
         "944250121"
        ],
        [
         "48",
         "1",
         "1136",
         "1.0",
         "943228327"
        ],
        [
         "49",
         "1",
         "1150",
         "4.0",
         "944250121"
        ]
       ],
       "shape": {
        "columns": 4,
        "rows": 29210880
       }
      },
      "text/html": [
       "<div>\n",
       "<style scoped>\n",
       "    .dataframe tbody tr th:only-of-type {\n",
       "        vertical-align: middle;\n",
       "    }\n",
       "\n",
       "    .dataframe tbody tr th {\n",
       "        vertical-align: top;\n",
       "    }\n",
       "\n",
       "    .dataframe thead th {\n",
       "        text-align: right;\n",
       "    }\n",
       "</style>\n",
       "<table border=\"1\" class=\"dataframe\">\n",
       "  <thead>\n",
       "    <tr style=\"text-align: right;\">\n",
       "      <th></th>\n",
       "      <th>userId</th>\n",
       "      <th>movieId</th>\n",
       "      <th>rating</th>\n",
       "      <th>timestamp</th>\n",
       "    </tr>\n",
       "  </thead>\n",
       "  <tbody>\n",
       "    <tr>\n",
       "      <th>0</th>\n",
       "      <td>1</td>\n",
       "      <td>17</td>\n",
       "      <td>4.0</td>\n",
       "      <td>944249077</td>\n",
       "    </tr>\n",
       "    <tr>\n",
       "      <th>1</th>\n",
       "      <td>1</td>\n",
       "      <td>25</td>\n",
       "      <td>1.0</td>\n",
       "      <td>944250228</td>\n",
       "    </tr>\n",
       "    <tr>\n",
       "      <th>2</th>\n",
       "      <td>1</td>\n",
       "      <td>29</td>\n",
       "      <td>2.0</td>\n",
       "      <td>943230976</td>\n",
       "    </tr>\n",
       "    <tr>\n",
       "      <th>3</th>\n",
       "      <td>1</td>\n",
       "      <td>30</td>\n",
       "      <td>5.0</td>\n",
       "      <td>944249077</td>\n",
       "    </tr>\n",
       "    <tr>\n",
       "      <th>4</th>\n",
       "      <td>1</td>\n",
       "      <td>32</td>\n",
       "      <td>5.0</td>\n",
       "      <td>943228858</td>\n",
       "    </tr>\n",
       "    <tr>\n",
       "      <th>...</th>\n",
       "      <td>...</td>\n",
       "      <td>...</td>\n",
       "      <td>...</td>\n",
       "      <td>...</td>\n",
       "    </tr>\n",
       "    <tr>\n",
       "      <th>32000199</th>\n",
       "      <td>200948</td>\n",
       "      <td>79702</td>\n",
       "      <td>4.5</td>\n",
       "      <td>1294412589</td>\n",
       "    </tr>\n",
       "    <tr>\n",
       "      <th>32000200</th>\n",
       "      <td>200948</td>\n",
       "      <td>79796</td>\n",
       "      <td>1.0</td>\n",
       "      <td>1287216292</td>\n",
       "    </tr>\n",
       "    <tr>\n",
       "      <th>32000201</th>\n",
       "      <td>200948</td>\n",
       "      <td>80350</td>\n",
       "      <td>0.5</td>\n",
       "      <td>1294412671</td>\n",
       "    </tr>\n",
       "    <tr>\n",
       "      <th>32000202</th>\n",
       "      <td>200948</td>\n",
       "      <td>80463</td>\n",
       "      <td>3.5</td>\n",
       "      <td>1350423800</td>\n",
       "    </tr>\n",
       "    <tr>\n",
       "      <th>32000203</th>\n",
       "      <td>200948</td>\n",
       "      <td>87304</td>\n",
       "      <td>4.5</td>\n",
       "      <td>1350423523</td>\n",
       "    </tr>\n",
       "  </tbody>\n",
       "</table>\n",
       "<p>29210880 rows × 4 columns</p>\n",
       "</div>"
      ],
      "text/plain": [
       "          userId  movieId  rating   timestamp\n",
       "0              1       17     4.0   944249077\n",
       "1              1       25     1.0   944250228\n",
       "2              1       29     2.0   943230976\n",
       "3              1       30     5.0   944249077\n",
       "4              1       32     5.0   943228858\n",
       "...          ...      ...     ...         ...\n",
       "32000199  200948    79702     4.5  1294412589\n",
       "32000200  200948    79796     1.0  1287216292\n",
       "32000201  200948    80350     0.5  1294412671\n",
       "32000202  200948    80463     3.5  1350423800\n",
       "32000203  200948    87304     4.5  1350423523\n",
       "\n",
       "[29210880 rows x 4 columns]"
      ]
     },
     "execution_count": 30,
     "metadata": {},
     "output_type": "execute_result"
    }
   ],
   "source": [
    "# karena Sparsity kurang dari 1.0% maka dibutuhkan filter\n",
    "# Jika movie memiliki jumlah rating  < 50 drop\n",
    "# Jika user melakukan rating < 50 kali drop\n",
    "min_movie_ratings = 50\n",
    "min_user_ratings = 50\n",
    "\n",
    "# Filter movies\n",
    "filtered_movie_ids = ratings['movieId'].value_counts()\n",
    "filtered_movie_ids = filtered_movie_ids[filtered_movie_ids >= min_movie_ratings].index\n",
    "\n",
    "# Filter users\n",
    "filtered_user_ids = ratings['userId'].value_counts()\n",
    "filtered_user_ids = filtered_user_ids[filtered_user_ids >= min_user_ratings].index\n",
    "\n",
    "filtered_ratings = ratings[\n",
    "    ratings['movieId'].isin(filtered_movie_ids) & \n",
    "    ratings['userId'].isin(filtered_user_ids)\n",
    "]\n",
    "\n",
    "filtered_ratings"
   ]
  },
  {
   "cell_type": "code",
   "execution_count": 31,
   "id": "bf22457c",
   "metadata": {},
   "outputs": [],
   "source": [
    "def create_x(df):\n",
    "    M = df['userId'].nunique()\n",
    "    N = df['movieId'].nunique()\n",
    "\n",
    "    user_mapper = dict(zip(np.unique(df['userId']), list(range(M))))\n",
    "    movie_mapper = dict(zip(np.unique(df['movieId']), list(range(N))))\n",
    "\n",
    "    user_inv_mapper = dict(zip(list(range(M)), np.unique(df['userId'])))\n",
    "    movie_inv_mapper = dict(zip(list(range(N)), np.unique(df['movieId'])))\n",
    "\n",
    "    user_index = [user_mapper[i] for i in df['userId']]\n",
    "    item_index = [movie_mapper[i] for i in df['movieId']]\n",
    "\n",
    "    X = csr_matrix((df['rating'], (user_index, item_index)), shape=(M,N))\n",
    "\n",
    "    return X, user_mapper, movie_mapper, user_inv_mapper, movie_inv_mapper\n",
    "\n",
    "X, user_mapper, movie_mapper, user_inv_mapper, movie_inv_mapper = create_x(filtered_ratings)\n"
   ]
  },
  {
   "cell_type": "code",
   "execution_count": 32,
   "id": "3ee79cc8",
   "metadata": {},
   "outputs": [
    {
     "data": {
      "text/plain": [
       "(128344, 16034)"
      ]
     },
     "execution_count": 32,
     "metadata": {},
     "output_type": "execute_result"
    }
   ],
   "source": [
    "X.shape"
   ]
  },
  {
   "cell_type": "markdown",
   "id": "d0d6c4cd",
   "metadata": {},
   "source": [
    "<h2>Evaluating Sparsity</h2>"
   ]
  },
  {
   "cell_type": "code",
   "execution_count": 33,
   "id": "9ac73a0f",
   "metadata": {},
   "outputs": [
    {
     "name": "stdout",
     "output_type": "stream",
     "text": [
      "Matrix Sparsity: 1.42%\n"
     ]
    }
   ],
   "source": [
    "n_total = X.shape[0]*X.shape[1]\n",
    "n_ratings = X.nnz\n",
    "sparsity = n_ratings/n_total\n",
    "print(f\"Matrix Sparsity: {round(sparsity*100, 2)}%\")\n",
    "\n",
    "# 0.19% terlalu kecil minimal 1.0%\n",
    "# data ratings and movies must be filltered and rebuild X"
   ]
  },
  {
   "cell_type": "markdown",
   "id": "9fe364f8",
   "metadata": {},
   "source": [
    "<h2>Cold Start problem</h2>"
   ]
  },
  {
   "cell_type": "code",
   "execution_count": 34,
   "id": "c7fb82d9",
   "metadata": {},
   "outputs": [
    {
     "data": {
      "text/plain": [
       "128344"
      ]
     },
     "execution_count": 34,
     "metadata": {},
     "output_type": "execute_result"
    }
   ],
   "source": [
    "n_ratings_per_user = X.getnnz(axis=1)\n",
    "len(n_ratings_per_user)"
   ]
  },
  {
   "cell_type": "code",
   "execution_count": 35,
   "id": "5ac1465f",
   "metadata": {},
   "outputs": [
    {
     "name": "stdout",
     "output_type": "stream",
     "text": [
      "most active user rated 11941 movies\n",
      "least active user rated 10 movies\n"
     ]
    }
   ],
   "source": [
    "print(f\"most active user rated {n_ratings_per_user.max()} movies\")\n",
    "print(f\"least active user rated {n_ratings_per_user.min()} movies\")"
   ]
  },
  {
   "cell_type": "code",
   "execution_count": 36,
   "id": "75abde15",
   "metadata": {},
   "outputs": [
    {
     "data": {
      "text/plain": [
       "16034"
      ]
     },
     "execution_count": 36,
     "metadata": {},
     "output_type": "execute_result"
    }
   ],
   "source": [
    "n_ratings_per_movie = X.getnnz(axis=0)\n",
    "len(n_ratings_per_movie)"
   ]
  },
  {
   "cell_type": "code",
   "execution_count": 37,
   "id": "203c1976",
   "metadata": {},
   "outputs": [
    {
     "name": "stdout",
     "output_type": "stream",
     "text": [
      "most rated movie has 80039 rating(s)\n",
      "least rated movie has 37 rating(s)\n"
     ]
    }
   ],
   "source": [
    "print(f\"most rated movie has {n_ratings_per_movie.max()} rating(s)\")\n",
    "print(f\"least rated movie has {n_ratings_per_movie.min()} rating(s)\")"
   ]
  },
  {
   "cell_type": "code",
   "execution_count": 38,
   "id": "27c580f3",
   "metadata": {},
   "outputs": [
    {
     "data": {
      "image/png": "[encoded data removed]",
      "text/plain": [
       "<Figure size 1600x400 with 2 Axes>"
      ]
     },
     "metadata": {},
     "output_type": "display_data"
    }
   ],
   "source": [
    "plt.figure(figsize=(16, 4))\n",
    "plt.subplot(1, 2, 1)\n",
    "sns.kdeplot(n_ratings_per_user, fill=True)\n",
    "plt.xlim(0)\n",
    "plt.title(\"Number of ratings per user\")\n",
    "plt.xlabel(\"number of ratings per user\")\n",
    "plt.ylabel(\"density\")\n",
    "plt.subplot(1, 2, 2)\n",
    "sns.kdeplot(n_ratings_per_movie, fill=True)\n",
    "plt.xlim(0)\n",
    "plt.title(\"number of ratings per movie\")\n",
    "plt.xlabel(\"number of ratings per movie\")\n",
    "plt.ylabel(\"density\")\n",
    "plt.show()\n"
   ]
  },
  {
   "cell_type": "markdown",
   "id": "d4c6de95",
   "metadata": {},
   "source": [
    "<h2>Recommendation with K-Nearest Neighbors</h2>"
   ]
  },
  {
   "cell_type": "code",
   "execution_count": 39,
   "id": "3bca22d9",
   "metadata": {},
   "outputs": [],
   "source": [
    "from sklearn.neighbors import NearestNeighbors"
   ]
  },
  {
   "cell_type": "code",
   "execution_count": 40,
   "id": "bca17cf8",
   "metadata": {},
   "outputs": [],
   "source": [
    "def find_similar_movies(movie_id, X, movie_mapper, movie_inv_mapper, k, metric='cosine'):\n",
    "    X = X.T\n",
    "    \n",
    "    neighbour_ids = []\n",
    "\n",
    "    movie_ind = movie_mapper[movie_id]\n",
    "    movie_vec = X[movie_ind]\n",
    "    if isinstance(movie_vec, (np.ndarray)):\n",
    "        movie_vec = movie_vec.reshape(1, -1)\n",
    "\n",
    "    knN = NearestNeighbors(n_neighbors=k+1, algorithm='brute', metric=metric)\n",
    "    knN.fit(X)\n",
    "    neighbour = knN.kneighbors(movie_vec, return_distance=False)\n",
    "    for i in range(0,k):\n",
    "        n = neighbour.item(i)\n",
    "        neighbour_ids.append(movie_inv_mapper[n])\n",
    "    \n",
    "    neighbour_ids.pop(0)\n",
    "    return neighbour_ids"
   ]
  },
  {
   "cell_type": "code",
   "execution_count": 41,
   "id": "ae6e3aa3",
   "metadata": {},
   "outputs": [
    {
     "data": {
      "text/plain": [
       "[3114, 356, 260, 480, 1270, 364, 588, 1210, 1196]"
      ]
     },
     "execution_count": 41,
     "metadata": {},
     "output_type": "execute_result"
    }
   ],
   "source": [
    "similar_movies = find_similar_movies(1, X, movie_mapper, movie_inv_mapper, k=10)\n",
    "similar_movies"
   ]
  },
  {
   "cell_type": "markdown",
   "id": "e2041b55",
   "metadata": {},
   "source": [
    "<h2>Untuk metric</h2>\n",
    "<ul>\n",
    "<li>cosine</li>\n",
    "<li>euclidean</li>\n",
    "<li>manhattan</li>\n",
    "</ul>"
   ]
  },
  {
   "cell_type": "code",
   "execution_count": 42,
   "id": "c00ee03e",
   "metadata": {},
   "outputs": [
    {
     "name": "stdout",
     "output_type": "stream",
     "text": [
      "Becuase you watched Toy Story (1995):\n",
      "Toy Story 2 (1999)\n",
      "Aladdin (1992)\n",
      "Lion King, The (1994)\n",
      "Bug's Life, A (1998)\n",
      "Monsters, Inc. (2001)\n",
      "Men in Black (a.k.a. MIB) (1997)\n",
      "Independence Day (a.k.a. ID4) (1996)\n",
      "Beauty and the Beast (1991)\n",
      "Shrek (2001)\n"
     ]
    }
   ],
   "source": [
    "movie_titles = dict(zip(movies['movieId'], movies['title']))\n",
    "# movie_titles\n",
    "\n",
    "movie_id = 1\n",
    "similar_movies = find_similar_movies(movie_id, X, movie_mapper, movie_inv_mapper, metric='euclidean', k=10)\n",
    "movie_title = movie_titles[movie_id]\n",
    "\n",
    "print(f\"Becuase you watched {movie_title}:\")\n",
    "for i in similar_movies:\n",
    "    print(movie_titles[i])"
   ]
  },
  {
   "cell_type": "markdown",
   "id": "5908125b",
   "metadata": {},
   "source": [
    "<h2>Berdasarkan hasil KNN</h2>\n",
    "<p>KNN dengan metric euclidean menghasilkan rekomendasi yang lebih bagus dibandingkan dengan metric cosine</p>"
   ]
  },
  {
   "cell_type": "markdown",
   "id": "259c1308",
   "metadata": {},
   "source": [
    "<h2>Handling Cold Start problem</h2>"
   ]
  },
  {
   "cell_type": "code",
   "execution_count": 43,
   "id": "b214a8c6",
   "metadata": {},
   "outputs": [
    {
     "data": {
      "text/plain": [
       "87585"
      ]
     },
     "execution_count": 43,
     "metadata": {},
     "output_type": "execute_result"
    }
   ],
   "source": [
    "n_movies = movies['movieId'].nunique()\n",
    "n_movies"
   ]
  },
  {
   "cell_type": "code",
   "execution_count": 44,
   "id": "434c042d",
   "metadata": {},
   "outputs": [],
   "source": [
    "# Encoding one hot encoder\n",
    "genres = set(g for G in movies['genres'] for g in G)\n",
    "# genres\n",
    "for g in genres:\n",
    "    movies[g] = movies.genres.transform(lambda x: int(g in x))"
   ]
  },
  {
   "cell_type": "code",
   "execution_count": 45,
   "id": "677e53fa",
   "metadata": {},
   "outputs": [],
   "source": [
    "movies_genres = movies.drop(columns=['movieId', 'genres'])"
   ]
  },
  {
   "cell_type": "code",
   "execution_count": 46,
   "id": "40682645",
   "metadata": {},
   "outputs": [],
   "source": [
    "movies_genres = movies_genres.drop(columns='title')"
   ]
  },
  {
   "cell_type": "code",
   "execution_count": 47,
   "id": "22085b89",
   "metadata": {},
   "outputs": [
    {
     "data": {
      "application/vnd.microsoft.datawrangler.viewer.v0+json": {
       "columns": [
        {
         "name": "index",
         "rawType": "int64",
         "type": "integer"
        },
        {
         "name": "Film-Noir",
         "rawType": "int64",
         "type": "integer"
        },
        {
         "name": "Documentary",
         "rawType": "int64",
         "type": "integer"
        },
        {
         "name": "(no genres listed)",
         "rawType": "int64",
         "type": "integer"
        },
        {
         "name": "Romance",
         "rawType": "int64",
         "type": "integer"
        },
        {
         "name": "Action",
         "rawType": "int64",
         "type": "integer"
        },
        {
         "name": "Animation",
         "rawType": "int64",
         "type": "integer"
        },
        {
         "name": "Horror",
         "rawType": "int64",
         "type": "integer"
        },
        {
         "name": "Crime",
         "rawType": "int64",
         "type": "integer"
        },
        {
         "name": "War",
         "rawType": "int64",
         "type": "integer"
        },
        {
         "name": "Drama",
         "rawType": "int64",
         "type": "integer"
        },
        {
         "name": "Mystery",
         "rawType": "int64",
         "type": "integer"
        },
        {
         "name": "Thriller",
         "rawType": "int64",
         "type": "integer"
        },
        {
         "name": "Comedy",
         "rawType": "int64",
         "type": "integer"
        },
        {
         "name": "Musical",
         "rawType": "int64",
         "type": "integer"
        },
        {
         "name": "Fantasy",
         "rawType": "int64",
         "type": "integer"
        },
        {
         "name": "Western",
         "rawType": "int64",
         "type": "integer"
        },
        {
         "name": "Adventure",
         "rawType": "int64",
         "type": "integer"
        },
        {
         "name": "Children",
         "rawType": "int64",
         "type": "integer"
        },
        {
         "name": "IMAX",
         "rawType": "int64",
         "type": "integer"
        },
        {
         "name": "Sci-Fi",
         "rawType": "int64",
         "type": "integer"
        }
       ],
       "conversionMethod": "pd.DataFrame",
       "ref": "d7e00b6a-a303-4745-9e4d-f1c59a7bdb3f",
       "rows": [
        [
         "0",
         "0",
         "0",
         "0",
         "0",
         "0",
         "1",
         "0",
         "0",
         "0",
         "0",
         "0",
         "0",
         "1",
         "0",
         "1",
         "0",
         "1",
         "1",
         "0",
         "0"
        ],
        [
         "1",
         "0",
         "0",
         "0",
         "0",
         "0",
         "0",
         "0",
         "0",
         "0",
         "0",
         "0",
         "0",
         "0",
         "0",
         "1",
         "0",
         "1",
         "1",
         "0",
         "0"
        ],
        [
         "2",
         "0",
         "0",
         "0",
         "1",
         "0",
         "0",
         "0",
         "0",
         "0",
         "0",
         "0",
         "0",
         "1",
         "0",
         "0",
         "0",
         "0",
         "0",
         "0",
         "0"
        ],
        [
         "3",
         "0",
         "0",
         "0",
         "1",
         "0",
         "0",
         "0",
         "0",
         "0",
         "1",
         "0",
         "0",
         "1",
         "0",
         "0",
         "0",
         "0",
         "0",
         "0",
         "0"
        ],
        [
         "4",
         "0",
         "0",
         "0",
         "0",
         "0",
         "0",
         "0",
         "0",
         "0",
         "0",
         "0",
         "0",
         "1",
         "0",
         "0",
         "0",
         "0",
         "0",
         "0",
         "0"
        ],
        [
         "5",
         "0",
         "0",
         "0",
         "0",
         "1",
         "0",
         "0",
         "1",
         "0",
         "0",
         "0",
         "1",
         "0",
         "0",
         "0",
         "0",
         "0",
         "0",
         "0",
         "0"
        ],
        [
         "6",
         "0",
         "0",
         "0",
         "1",
         "0",
         "0",
         "0",
         "0",
         "0",
         "0",
         "0",
         "0",
         "1",
         "0",
         "0",
         "0",
         "0",
         "0",
         "0",
         "0"
        ],
        [
         "7",
         "0",
         "0",
         "0",
         "0",
         "0",
         "0",
         "0",
         "0",
         "0",
         "0",
         "0",
         "0",
         "0",
         "0",
         "0",
         "0",
         "1",
         "1",
         "0",
         "0"
        ],
        [
         "8",
         "0",
         "0",
         "0",
         "0",
         "1",
         "0",
         "0",
         "0",
         "0",
         "0",
         "0",
         "0",
         "0",
         "0",
         "0",
         "0",
         "0",
         "0",
         "0",
         "0"
        ],
        [
         "9",
         "0",
         "0",
         "0",
         "0",
         "1",
         "0",
         "0",
         "0",
         "0",
         "0",
         "0",
         "1",
         "0",
         "0",
         "0",
         "0",
         "1",
         "0",
         "0",
         "0"
        ],
        [
         "10",
         "0",
         "0",
         "0",
         "1",
         "0",
         "0",
         "0",
         "0",
         "0",
         "1",
         "0",
         "0",
         "1",
         "0",
         "0",
         "0",
         "0",
         "0",
         "0",
         "0"
        ],
        [
         "11",
         "0",
         "0",
         "0",
         "0",
         "0",
         "0",
         "1",
         "0",
         "0",
         "0",
         "0",
         "0",
         "1",
         "0",
         "0",
         "0",
         "0",
         "0",
         "0",
         "0"
        ],
        [
         "12",
         "0",
         "0",
         "0",
         "0",
         "0",
         "1",
         "0",
         "0",
         "0",
         "0",
         "0",
         "0",
         "0",
         "0",
         "0",
         "0",
         "1",
         "1",
         "0",
         "0"
        ],
        [
         "13",
         "0",
         "0",
         "0",
         "0",
         "0",
         "0",
         "0",
         "0",
         "0",
         "1",
         "0",
         "0",
         "0",
         "0",
         "0",
         "0",
         "0",
         "0",
         "0",
         "0"
        ],
        [
         "14",
         "0",
         "0",
         "0",
         "1",
         "1",
         "0",
         "0",
         "0",
         "0",
         "0",
         "0",
         "0",
         "0",
         "0",
         "0",
         "0",
         "1",
         "0",
         "0",
         "0"
        ],
        [
         "15",
         "0",
         "0",
         "0",
         "0",
         "0",
         "0",
         "0",
         "1",
         "0",
         "1",
         "0",
         "0",
         "0",
         "0",
         "0",
         "0",
         "0",
         "0",
         "0",
         "0"
        ],
        [
         "16",
         "0",
         "0",
         "0",
         "1",
         "0",
         "0",
         "0",
         "0",
         "0",
         "1",
         "0",
         "0",
         "0",
         "0",
         "0",
         "0",
         "0",
         "0",
         "0",
         "0"
        ],
        [
         "17",
         "0",
         "0",
         "0",
         "0",
         "0",
         "0",
         "0",
         "0",
         "0",
         "0",
         "0",
         "0",
         "1",
         "0",
         "0",
         "0",
         "0",
         "0",
         "0",
         "0"
        ],
        [
         "18",
         "0",
         "0",
         "0",
         "0",
         "0",
         "0",
         "0",
         "0",
         "0",
         "0",
         "0",
         "0",
         "1",
         "0",
         "0",
         "0",
         "0",
         "0",
         "0",
         "0"
        ],
        [
         "19",
         "0",
         "0",
         "0",
         "0",
         "1",
         "0",
         "0",
         "1",
         "0",
         "1",
         "0",
         "1",
         "1",
         "0",
         "0",
         "0",
         "0",
         "0",
         "0",
         "0"
        ],
        [
         "20",
         "0",
         "0",
         "0",
         "0",
         "0",
         "0",
         "0",
         "1",
         "0",
         "0",
         "0",
         "1",
         "1",
         "0",
         "0",
         "0",
         "0",
         "0",
         "0",
         "0"
        ],
        [
         "21",
         "0",
         "0",
         "0",
         "0",
         "0",
         "0",
         "1",
         "1",
         "0",
         "1",
         "1",
         "1",
         "0",
         "0",
         "0",
         "0",
         "0",
         "0",
         "0",
         "0"
        ],
        [
         "22",
         "0",
         "0",
         "0",
         "0",
         "1",
         "0",
         "0",
         "1",
         "0",
         "0",
         "0",
         "1",
         "0",
         "0",
         "0",
         "0",
         "0",
         "0",
         "0",
         "0"
        ],
        [
         "23",
         "0",
         "0",
         "0",
         "0",
         "0",
         "0",
         "0",
         "0",
         "0",
         "1",
         "0",
         "0",
         "0",
         "0",
         "0",
         "0",
         "0",
         "0",
         "0",
         "1"
        ],
        [
         "24",
         "0",
         "0",
         "0",
         "1",
         "0",
         "0",
         "0",
         "0",
         "0",
         "1",
         "0",
         "0",
         "0",
         "0",
         "0",
         "0",
         "0",
         "0",
         "0",
         "0"
        ],
        [
         "25",
         "0",
         "0",
         "0",
         "0",
         "0",
         "0",
         "0",
         "0",
         "0",
         "1",
         "0",
         "0",
         "0",
         "0",
         "0",
         "0",
         "0",
         "0",
         "0",
         "0"
        ],
        [
         "26",
         "0",
         "0",
         "0",
         "0",
         "0",
         "0",
         "0",
         "0",
         "0",
         "1",
         "0",
         "0",
         "0",
         "0",
         "0",
         "0",
         "0",
         "1",
         "0",
         "0"
        ],
        [
         "27",
         "0",
         "0",
         "0",
         "1",
         "0",
         "0",
         "0",
         "0",
         "0",
         "1",
         "0",
         "0",
         "0",
         "0",
         "0",
         "0",
         "0",
         "0",
         "0",
         "0"
        ],
        [
         "28",
         "0",
         "0",
         "0",
         "0",
         "0",
         "0",
         "0",
         "0",
         "0",
         "1",
         "1",
         "0",
         "0",
         "0",
         "1",
         "0",
         "1",
         "0",
         "0",
         "1"
        ],
        [
         "29",
         "0",
         "0",
         "0",
         "0",
         "0",
         "0",
         "0",
         "1",
         "0",
         "1",
         "0",
         "0",
         "0",
         "0",
         "0",
         "0",
         "0",
         "0",
         "0",
         "0"
        ],
        [
         "30",
         "0",
         "0",
         "0",
         "0",
         "0",
         "0",
         "0",
         "0",
         "0",
         "1",
         "0",
         "0",
         "0",
         "0",
         "0",
         "0",
         "0",
         "0",
         "0",
         "0"
        ],
        [
         "31",
         "0",
         "0",
         "0",
         "0",
         "0",
         "0",
         "0",
         "0",
         "0",
         "0",
         "1",
         "1",
         "0",
         "0",
         "0",
         "0",
         "0",
         "0",
         "0",
         "1"
        ],
        [
         "32",
         "0",
         "0",
         "0",
         "1",
         "0",
         "0",
         "0",
         "0",
         "0",
         "0",
         "0",
         "0",
         "0",
         "0",
         "0",
         "0",
         "1",
         "0",
         "1",
         "0"
        ],
        [
         "33",
         "0",
         "0",
         "0",
         "0",
         "0",
         "0",
         "0",
         "0",
         "0",
         "1",
         "0",
         "0",
         "0",
         "0",
         "0",
         "0",
         "0",
         "1",
         "0",
         "0"
        ],
        [
         "34",
         "0",
         "0",
         "0",
         "1",
         "0",
         "0",
         "0",
         "0",
         "0",
         "1",
         "0",
         "0",
         "0",
         "0",
         "0",
         "0",
         "0",
         "0",
         "0",
         "0"
        ],
        [
         "35",
         "0",
         "0",
         "0",
         "0",
         "0",
         "0",
         "0",
         "1",
         "0",
         "1",
         "0",
         "0",
         "0",
         "0",
         "0",
         "0",
         "0",
         "0",
         "0",
         "0"
        ],
        [
         "36",
         "0",
         "1",
         "0",
         "0",
         "0",
         "0",
         "0",
         "0",
         "0",
         "0",
         "0",
         "0",
         "0",
         "0",
         "0",
         "0",
         "0",
         "0",
         "1",
         "0"
        ],
        [
         "37",
         "0",
         "0",
         "0",
         "0",
         "0",
         "0",
         "0",
         "0",
         "0",
         "0",
         "0",
         "0",
         "1",
         "0",
         "0",
         "0",
         "0",
         "1",
         "0",
         "0"
        ],
        [
         "38",
         "0",
         "0",
         "0",
         "1",
         "0",
         "0",
         "0",
         "0",
         "0",
         "0",
         "0",
         "0",
         "1",
         "0",
         "0",
         "0",
         "0",
         "0",
         "0",
         "0"
        ],
        [
         "39",
         "0",
         "0",
         "0",
         "0",
         "0",
         "0",
         "0",
         "0",
         "0",
         "1",
         "0",
         "0",
         "0",
         "0",
         "0",
         "0",
         "0",
         "0",
         "0",
         "0"
        ],
        [
         "40",
         "0",
         "0",
         "0",
         "0",
         "0",
         "0",
         "0",
         "0",
         "1",
         "1",
         "0",
         "0",
         "0",
         "0",
         "0",
         "0",
         "0",
         "0",
         "0",
         "0"
        ],
        [
         "41",
         "0",
         "0",
         "0",
         "0",
         "1",
         "0",
         "0",
         "1",
         "0",
         "1",
         "0",
         "0",
         "0",
         "0",
         "0",
         "0",
         "0",
         "0",
         "0",
         "0"
        ],
        [
         "42",
         "0",
         "0",
         "0",
         "0",
         "0",
         "0",
         "0",
         "0",
         "0",
         "1",
         "0",
         "0",
         "0",
         "0",
         "0",
         "0",
         "0",
         "0",
         "0",
         "0"
        ],
        [
         "43",
         "0",
         "0",
         "0",
         "0",
         "1",
         "0",
         "0",
         "0",
         "0",
         "0",
         "0",
         "0",
         "0",
         "0",
         "1",
         "0",
         "1",
         "0",
         "0",
         "0"
        ],
        [
         "44",
         "0",
         "0",
         "0",
         "0",
         "0",
         "0",
         "0",
         "0",
         "0",
         "1",
         "0",
         "1",
         "1",
         "0",
         "0",
         "0",
         "0",
         "0",
         "0",
         "0"
        ],
        [
         "45",
         "0",
         "0",
         "0",
         "1",
         "0",
         "0",
         "0",
         "0",
         "0",
         "1",
         "0",
         "0",
         "0",
         "0",
         "0",
         "0",
         "0",
         "0",
         "0",
         "0"
        ],
        [
         "46",
         "0",
         "0",
         "0",
         "0",
         "0",
         "0",
         "0",
         "0",
         "0",
         "0",
         "1",
         "1",
         "0",
         "0",
         "0",
         "0",
         "0",
         "0",
         "0",
         "0"
        ],
        [
         "47",
         "0",
         "0",
         "0",
         "1",
         "0",
         "1",
         "0",
         "0",
         "0",
         "1",
         "0",
         "0",
         "0",
         "1",
         "0",
         "0",
         "0",
         "1",
         "0",
         "0"
        ],
        [
         "48",
         "0",
         "0",
         "0",
         "1",
         "0",
         "0",
         "0",
         "0",
         "0",
         "1",
         "0",
         "0",
         "0",
         "0",
         "0",
         "0",
         "0",
         "0",
         "0",
         "0"
        ],
        [
         "49",
         "0",
         "0",
         "0",
         "0",
         "0",
         "0",
         "0",
         "1",
         "0",
         "0",
         "1",
         "1",
         "0",
         "0",
         "0",
         "0",
         "0",
         "0",
         "0",
         "0"
        ]
       ],
       "shape": {
        "columns": 20,
        "rows": 87585
       }
      },
      "text/html": [
       "<div>\n",
       "<style scoped>\n",
       "    .dataframe tbody tr th:only-of-type {\n",
       "        vertical-align: middle;\n",
       "    }\n",
       "\n",
       "    .dataframe tbody tr th {\n",
       "        vertical-align: top;\n",
       "    }\n",
       "\n",
       "    .dataframe thead th {\n",
       "        text-align: right;\n",
       "    }\n",
       "</style>\n",
       "<table border=\"1\" class=\"dataframe\">\n",
       "  <thead>\n",
       "    <tr style=\"text-align: right;\">\n",
       "      <th></th>\n",
       "      <th>Film-Noir</th>\n",
       "      <th>Documentary</th>\n",
       "      <th>(no genres listed)</th>\n",
       "      <th>Romance</th>\n",
       "      <th>Action</th>\n",
       "      <th>Animation</th>\n",
       "      <th>Horror</th>\n",
       "      <th>Crime</th>\n",
       "      <th>War</th>\n",
       "      <th>Drama</th>\n",
       "      <th>Mystery</th>\n",
       "      <th>Thriller</th>\n",
       "      <th>Comedy</th>\n",
       "      <th>Musical</th>\n",
       "      <th>Fantasy</th>\n",
       "      <th>Western</th>\n",
       "      <th>Adventure</th>\n",
       "      <th>Children</th>\n",
       "      <th>IMAX</th>\n",
       "      <th>Sci-Fi</th>\n",
       "    </tr>\n",
       "  </thead>\n",
       "  <tbody>\n",
       "    <tr>\n",
       "      <th>0</th>\n",
       "      <td>0</td>\n",
       "      <td>0</td>\n",
       "      <td>0</td>\n",
       "      <td>0</td>\n",
       "      <td>0</td>\n",
       "      <td>1</td>\n",
       "      <td>0</td>\n",
       "      <td>0</td>\n",
       "      <td>0</td>\n",
       "      <td>0</td>\n",
       "      <td>0</td>\n",
       "      <td>0</td>\n",
       "      <td>1</td>\n",
       "      <td>0</td>\n",
       "      <td>1</td>\n",
       "      <td>0</td>\n",
       "      <td>1</td>\n",
       "      <td>1</td>\n",
       "      <td>0</td>\n",
       "      <td>0</td>\n",
       "    </tr>\n",
       "    <tr>\n",
       "      <th>1</th>\n",
       "      <td>0</td>\n",
       "      <td>0</td>\n",
       "      <td>0</td>\n",
       "      <td>0</td>\n",
       "      <td>0</td>\n",
       "      <td>0</td>\n",
       "      <td>0</td>\n",
       "      <td>0</td>\n",
       "      <td>0</td>\n",
       "      <td>0</td>\n",
       "      <td>0</td>\n",
       "      <td>0</td>\n",
       "      <td>0</td>\n",
       "      <td>0</td>\n",
       "      <td>1</td>\n",
       "      <td>0</td>\n",
       "      <td>1</td>\n",
       "      <td>1</td>\n",
       "      <td>0</td>\n",
       "      <td>0</td>\n",
       "    </tr>\n",
       "    <tr>\n",
       "      <th>2</th>\n",
       "      <td>0</td>\n",
       "      <td>0</td>\n",
       "      <td>0</td>\n",
       "      <td>1</td>\n",
       "      <td>0</td>\n",
       "      <td>0</td>\n",
       "      <td>0</td>\n",
       "      <td>0</td>\n",
       "      <td>0</td>\n",
       "      <td>0</td>\n",
       "      <td>0</td>\n",
       "      <td>0</td>\n",
       "      <td>1</td>\n",
       "      <td>0</td>\n",
       "      <td>0</td>\n",
       "      <td>0</td>\n",
       "      <td>0</td>\n",
       "      <td>0</td>\n",
       "      <td>0</td>\n",
       "      <td>0</td>\n",
       "    </tr>\n",
       "    <tr>\n",
       "      <th>3</th>\n",
       "      <td>0</td>\n",
       "      <td>0</td>\n",
       "      <td>0</td>\n",
       "      <td>1</td>\n",
       "      <td>0</td>\n",
       "      <td>0</td>\n",
       "      <td>0</td>\n",
       "      <td>0</td>\n",
       "      <td>0</td>\n",
       "      <td>1</td>\n",
       "      <td>0</td>\n",
       "      <td>0</td>\n",
       "      <td>1</td>\n",
       "      <td>0</td>\n",
       "      <td>0</td>\n",
       "      <td>0</td>\n",
       "      <td>0</td>\n",
       "      <td>0</td>\n",
       "      <td>0</td>\n",
       "      <td>0</td>\n",
       "    </tr>\n",
       "    <tr>\n",
       "      <th>4</th>\n",
       "      <td>0</td>\n",
       "      <td>0</td>\n",
       "      <td>0</td>\n",
       "      <td>0</td>\n",
       "      <td>0</td>\n",
       "      <td>0</td>\n",
       "      <td>0</td>\n",
       "      <td>0</td>\n",
       "      <td>0</td>\n",
       "      <td>0</td>\n",
       "      <td>0</td>\n",
       "      <td>0</td>\n",
       "      <td>1</td>\n",
       "      <td>0</td>\n",
       "      <td>0</td>\n",
       "      <td>0</td>\n",
       "      <td>0</td>\n",
       "      <td>0</td>\n",
       "      <td>0</td>\n",
       "      <td>0</td>\n",
       "    </tr>\n",
       "    <tr>\n",
       "      <th>...</th>\n",
       "      <td>...</td>\n",
       "      <td>...</td>\n",
       "      <td>...</td>\n",
       "      <td>...</td>\n",
       "      <td>...</td>\n",
       "      <td>...</td>\n",
       "      <td>...</td>\n",
       "      <td>...</td>\n",
       "      <td>...</td>\n",
       "      <td>...</td>\n",
       "      <td>...</td>\n",
       "      <td>...</td>\n",
       "      <td>...</td>\n",
       "      <td>...</td>\n",
       "      <td>...</td>\n",
       "      <td>...</td>\n",
       "      <td>...</td>\n",
       "      <td>...</td>\n",
       "      <td>...</td>\n",
       "      <td>...</td>\n",
       "    </tr>\n",
       "    <tr>\n",
       "      <th>87580</th>\n",
       "      <td>0</td>\n",
       "      <td>0</td>\n",
       "      <td>0</td>\n",
       "      <td>0</td>\n",
       "      <td>0</td>\n",
       "      <td>0</td>\n",
       "      <td>0</td>\n",
       "      <td>0</td>\n",
       "      <td>0</td>\n",
       "      <td>1</td>\n",
       "      <td>0</td>\n",
       "      <td>0</td>\n",
       "      <td>0</td>\n",
       "      <td>0</td>\n",
       "      <td>0</td>\n",
       "      <td>0</td>\n",
       "      <td>0</td>\n",
       "      <td>0</td>\n",
       "      <td>0</td>\n",
       "      <td>0</td>\n",
       "    </tr>\n",
       "    <tr>\n",
       "      <th>87581</th>\n",
       "      <td>0</td>\n",
       "      <td>0</td>\n",
       "      <td>0</td>\n",
       "      <td>0</td>\n",
       "      <td>0</td>\n",
       "      <td>0</td>\n",
       "      <td>0</td>\n",
       "      <td>0</td>\n",
       "      <td>0</td>\n",
       "      <td>1</td>\n",
       "      <td>0</td>\n",
       "      <td>0</td>\n",
       "      <td>1</td>\n",
       "      <td>0</td>\n",
       "      <td>0</td>\n",
       "      <td>0</td>\n",
       "      <td>0</td>\n",
       "      <td>0</td>\n",
       "      <td>0</td>\n",
       "      <td>0</td>\n",
       "    </tr>\n",
       "    <tr>\n",
       "      <th>87582</th>\n",
       "      <td>0</td>\n",
       "      <td>0</td>\n",
       "      <td>0</td>\n",
       "      <td>0</td>\n",
       "      <td>0</td>\n",
       "      <td>0</td>\n",
       "      <td>0</td>\n",
       "      <td>0</td>\n",
       "      <td>0</td>\n",
       "      <td>1</td>\n",
       "      <td>0</td>\n",
       "      <td>0</td>\n",
       "      <td>0</td>\n",
       "      <td>0</td>\n",
       "      <td>0</td>\n",
       "      <td>0</td>\n",
       "      <td>0</td>\n",
       "      <td>0</td>\n",
       "      <td>0</td>\n",
       "      <td>0</td>\n",
       "    </tr>\n",
       "    <tr>\n",
       "      <th>87583</th>\n",
       "      <td>0</td>\n",
       "      <td>0</td>\n",
       "      <td>0</td>\n",
       "      <td>0</td>\n",
       "      <td>0</td>\n",
       "      <td>0</td>\n",
       "      <td>0</td>\n",
       "      <td>0</td>\n",
       "      <td>0</td>\n",
       "      <td>1</td>\n",
       "      <td>0</td>\n",
       "      <td>0</td>\n",
       "      <td>0</td>\n",
       "      <td>0</td>\n",
       "      <td>0</td>\n",
       "      <td>0</td>\n",
       "      <td>0</td>\n",
       "      <td>0</td>\n",
       "      <td>0</td>\n",
       "      <td>0</td>\n",
       "    </tr>\n",
       "    <tr>\n",
       "      <th>87584</th>\n",
       "      <td>0</td>\n",
       "      <td>1</td>\n",
       "      <td>0</td>\n",
       "      <td>0</td>\n",
       "      <td>1</td>\n",
       "      <td>0</td>\n",
       "      <td>0</td>\n",
       "      <td>0</td>\n",
       "      <td>0</td>\n",
       "      <td>0</td>\n",
       "      <td>0</td>\n",
       "      <td>0</td>\n",
       "      <td>0</td>\n",
       "      <td>0</td>\n",
       "      <td>0</td>\n",
       "      <td>0</td>\n",
       "      <td>1</td>\n",
       "      <td>0</td>\n",
       "      <td>0</td>\n",
       "      <td>0</td>\n",
       "    </tr>\n",
       "  </tbody>\n",
       "</table>\n",
       "<p>87585 rows × 20 columns</p>\n",
       "</div>"
      ],
      "text/plain": [
       "       Film-Noir  Documentary  (no genres listed)  Romance  Action  Animation  \\\n",
       "0              0            0                   0        0       0          1   \n",
       "1              0            0                   0        0       0          0   \n",
       "2              0            0                   0        1       0          0   \n",
       "3              0            0                   0        1       0          0   \n",
       "4              0            0                   0        0       0          0   \n",
       "...          ...          ...                 ...      ...     ...        ...   \n",
       "87580          0            0                   0        0       0          0   \n",
       "87581          0            0                   0        0       0          0   \n",
       "87582          0            0                   0        0       0          0   \n",
       "87583          0            0                   0        0       0          0   \n",
       "87584          0            1                   0        0       1          0   \n",
       "\n",
       "       Horror  Crime  War  Drama  Mystery  Thriller  Comedy  Musical  Fantasy  \\\n",
       "0           0      0    0      0        0         0       1        0        1   \n",
       "1           0      0    0      0        0         0       0        0        1   \n",
       "2           0      0    0      0        0         0       1        0        0   \n",
       "3           0      0    0      1        0         0       1        0        0   \n",
       "4           0      0    0      0        0         0       1        0        0   \n",
       "...       ...    ...  ...    ...      ...       ...     ...      ...      ...   \n",
       "87580       0      0    0      1        0         0       0        0        0   \n",
       "87581       0      0    0      1        0         0       1        0        0   \n",
       "87582       0      0    0      1        0         0       0        0        0   \n",
       "87583       0      0    0      1        0         0       0        0        0   \n",
       "87584       0      0    0      0        0         0       0        0        0   \n",
       "\n",
       "       Western  Adventure  Children  IMAX  Sci-Fi  \n",
       "0            0          1         1     0       0  \n",
       "1            0          1         1     0       0  \n",
       "2            0          0         0     0       0  \n",
       "3            0          0         0     0       0  \n",
       "4            0          0         0     0       0  \n",
       "...        ...        ...       ...   ...     ...  \n",
       "87580        0          0         0     0       0  \n",
       "87581        0          0         0     0       0  \n",
       "87582        0          0         0     0       0  \n",
       "87583        0          0         0     0       0  \n",
       "87584        0          1         0     0       0  \n",
       "\n",
       "[87585 rows x 20 columns]"
      ]
     },
     "execution_count": 47,
     "metadata": {},
     "output_type": "execute_result"
    }
   ],
   "source": [
    "movies_genres"
   ]
  },
  {
   "cell_type": "code",
   "execution_count": 48,
   "id": "3aea5bbc",
   "metadata": {},
   "outputs": [],
   "source": [
    "from sklearn.metrics.pairwise import cosine_similarity"
   ]
  },
  {
   "cell_type": "code",
   "execution_count": 49,
   "id": "9c4de676",
   "metadata": {},
   "outputs": [
    {
     "name": "stdout",
     "output_type": "stream",
     "text": [
      "Dimension of our genres cosine similarity matrix: (87585, 87585)\n"
     ]
    }
   ],
   "source": [
    "cosine_sim = cosine_similarity(movies_genres, movies_genres)\n",
    "print(f\"Dimension of our genres cosine similarity matrix: {cosine_sim.shape}\")"
   ]
  },
  {
   "cell_type": "code",
   "execution_count": 50,
   "id": "a8cf846b",
   "metadata": {},
   "outputs": [],
   "source": [
    "# cosine_sim[0]"
   ]
  },
  {
   "cell_type": "markdown",
   "id": "b5353562",
   "metadata": {},
   "source": [
    "<h2>Create a movie finder</h2>"
   ]
  },
  {
   "cell_type": "code",
   "execution_count": 51,
   "id": "1a0ad8c8",
   "metadata": {},
   "outputs": [],
   "source": [
    "from rapidfuzz import process, fuzz"
   ]
  },
  {
   "cell_type": "code",
   "execution_count": 52,
   "id": "77bef10d",
   "metadata": {},
   "outputs": [],
   "source": [
    "def movie_finder(title):\n",
    "    all_title = movies['title'].tolist()\n",
    "    closest_match = process.extractOne(title, all_title, scorer=fuzz.ratio)\n",
    "    return closest_match[0]"
   ]
  },
  {
   "cell_type": "code",
   "execution_count": 53,
   "id": "c4d0a06e",
   "metadata": {},
   "outputs": [
    {
     "data": {
      "text/plain": [
       "'Jumanji (1995)'"
      ]
     },
     "execution_count": 53,
     "metadata": {},
     "output_type": "execute_result"
    }
   ],
   "source": [
    "search_title = movie_finder('Jumanji')\n",
    "search_title "
   ]
  },
  {
   "cell_type": "code",
   "execution_count": 54,
   "id": "3b2a974a",
   "metadata": {},
   "outputs": [
    {
     "name": "stdout",
     "output_type": "stream",
     "text": [
      "Movie Index for Jumanji: 1\n"
     ]
    }
   ],
   "source": [
    "movie_idx = dict(zip(movies['title'], list(movies.index)))\n",
    "idx = movie_idx[search_title]\n",
    "print(f\"Movie Index for Jumanji: {idx}\")"
   ]
  },
  {
   "cell_type": "code",
   "execution_count": 55,
   "id": "edfc33e0",
   "metadata": {},
   "outputs": [
    {
     "data": {
      "text/plain": [
       "[(59, 1.0000000000000002),\n",
       " (124, 1.0000000000000002),\n",
       " (986, 1.0000000000000002),\n",
       " (1954, 1.0000000000000002),\n",
       " (2003, 1.0000000000000002),\n",
       " (2071, 1.0000000000000002),\n",
       " (2072, 1.0000000000000002),\n",
       " (2308, 1.0000000000000002),\n",
       " (4791, 1.0000000000000002),\n",
       " (9559, 1.0000000000000002)]"
      ]
     },
     "execution_count": 55,
     "metadata": {},
     "output_type": "execute_result"
    }
   ],
   "source": [
    "n_recommendations = 10\n",
    "sim_scores = list(enumerate(cosine_sim[idx]))\n",
    "sim_scores = sorted(sim_scores, key=lambda x: x[1], reverse=True)\n",
    "sim_scores = sim_scores[1: (n_recommendations+1)]\n",
    "sim_scores"
   ]
  },
  {
   "cell_type": "code",
   "execution_count": 56,
   "id": "aad4f2fc",
   "metadata": {},
   "outputs": [
    {
     "data": {
      "text/plain": [
       "[59, 124, 986, 1954, 2003, 2071, 2072, 2308, 4791, 9559]"
      ]
     },
     "execution_count": 56,
     "metadata": {},
     "output_type": "execute_result"
    }
   ],
   "source": [
    "similar_movies = [i[0] for i in sim_scores]\n",
    "similar_movies"
   ]
  },
  {
   "cell_type": "code",
   "execution_count": 57,
   "id": "72495996",
   "metadata": {},
   "outputs": [
    {
     "name": "stdout",
     "output_type": "stream",
     "text": [
      "Because you watch Jumanji (1995):\n"
     ]
    },
    {
     "data": {
      "text/plain": [
       "59                     Indian in the Cupboard, The (1995)\n",
       "124                     NeverEnding Story III, The (1994)\n",
       "986                       Escape to Witch Mountain (1975)\n",
       "1954            Darby O'Gill and the Little People (1959)\n",
       "2003                                  Return to Oz (1985)\n",
       "2071                        NeverEnding Story, The (1984)\n",
       "2072    NeverEnding Story II: The Next Chapter, The (1...\n",
       "2308                        Santa Claus: The Movie (1985)\n",
       "4791    Harry Potter and the Sorcerer's Stone (a.k.a. ...\n",
       "9559                            Magic in the Water (1995)\n",
       "Name: title, dtype: object"
      ]
     },
     "execution_count": 57,
     "metadata": {},
     "output_type": "execute_result"
    }
   ],
   "source": [
    "print(f\"Because you watch {search_title}:\")\n",
    "movies['title'].iloc[similar_movies]"
   ]
  },
  {
   "cell_type": "code",
   "execution_count": 58,
   "id": "4d006ae1",
   "metadata": {},
   "outputs": [
    {
     "data": {
      "application/vnd.microsoft.datawrangler.viewer.v0+json": {
       "columns": [
        {
         "name": "index",
         "rawType": "int64",
         "type": "integer"
        },
        {
         "name": "movieId",
         "rawType": "int64",
         "type": "integer"
        },
        {
         "name": "title",
         "rawType": "object",
         "type": "string"
        },
        {
         "name": "genres",
         "rawType": "object",
         "type": "string"
        },
        {
         "name": "Film-Noir",
         "rawType": "int64",
         "type": "integer"
        },
        {
         "name": "Documentary",
         "rawType": "int64",
         "type": "integer"
        },
        {
         "name": "(no genres listed)",
         "rawType": "int64",
         "type": "integer"
        },
        {
         "name": "Romance",
         "rawType": "int64",
         "type": "integer"
        },
        {
         "name": "Action",
         "rawType": "int64",
         "type": "integer"
        },
        {
         "name": "Animation",
         "rawType": "int64",
         "type": "integer"
        },
        {
         "name": "Horror",
         "rawType": "int64",
         "type": "integer"
        },
        {
         "name": "Crime",
         "rawType": "int64",
         "type": "integer"
        },
        {
         "name": "War",
         "rawType": "int64",
         "type": "integer"
        },
        {
         "name": "Drama",
         "rawType": "int64",
         "type": "integer"
        },
        {
         "name": "Mystery",
         "rawType": "int64",
         "type": "integer"
        },
        {
         "name": "Thriller",
         "rawType": "int64",
         "type": "integer"
        },
        {
         "name": "Comedy",
         "rawType": "int64",
         "type": "integer"
        },
        {
         "name": "Musical",
         "rawType": "int64",
         "type": "integer"
        },
        {
         "name": "Fantasy",
         "rawType": "int64",
         "type": "integer"
        },
        {
         "name": "Western",
         "rawType": "int64",
         "type": "integer"
        },
        {
         "name": "Adventure",
         "rawType": "int64",
         "type": "integer"
        },
        {
         "name": "Children",
         "rawType": "int64",
         "type": "integer"
        },
        {
         "name": "IMAX",
         "rawType": "int64",
         "type": "integer"
        },
        {
         "name": "Sci-Fi",
         "rawType": "int64",
         "type": "integer"
        }
       ],
       "conversionMethod": "pd.DataFrame",
       "ref": "f2c1862e-cb65-40aa-8963-3a5145a4d982",
       "rows": [
        [
         "0",
         "1",
         "Toy Story (1995)",
         "['Adventure', 'Animation', 'Children', 'Comedy', 'Fantasy']",
         "0",
         "0",
         "0",
         "0",
         "0",
         "1",
         "0",
         "0",
         "0",
         "0",
         "0",
         "0",
         "1",
         "0",
         "1",
         "0",
         "1",
         "1",
         "0",
         "0"
        ],
        [
         "1",
         "2",
         "Jumanji (1995)",
         "['Adventure', 'Children', 'Fantasy']",
         "0",
         "0",
         "0",
         "0",
         "0",
         "0",
         "0",
         "0",
         "0",
         "0",
         "0",
         "0",
         "0",
         "0",
         "1",
         "0",
         "1",
         "1",
         "0",
         "0"
        ],
        [
         "2",
         "3",
         "Grumpier Old Men (1995)",
         "['Comedy', 'Romance']",
         "0",
         "0",
         "0",
         "1",
         "0",
         "0",
         "0",
         "0",
         "0",
         "0",
         "0",
         "0",
         "1",
         "0",
         "0",
         "0",
         "0",
         "0",
         "0",
         "0"
        ],
        [
         "3",
         "4",
         "Waiting to Exhale (1995)",
         "['Comedy', 'Drama', 'Romance']",
         "0",
         "0",
         "0",
         "1",
         "0",
         "0",
         "0",
         "0",
         "0",
         "1",
         "0",
         "0",
         "1",
         "0",
         "0",
         "0",
         "0",
         "0",
         "0",
         "0"
        ],
        [
         "4",
         "5",
         "Father of the Bride Part II (1995)",
         "['Comedy']",
         "0",
         "0",
         "0",
         "0",
         "0",
         "0",
         "0",
         "0",
         "0",
         "0",
         "0",
         "0",
         "1",
         "0",
         "0",
         "0",
         "0",
         "0",
         "0",
         "0"
        ]
       ],
       "shape": {
        "columns": 23,
        "rows": 5
       }
      },
      "text/html": [
       "<div>\n",
       "<style scoped>\n",
       "    .dataframe tbody tr th:only-of-type {\n",
       "        vertical-align: middle;\n",
       "    }\n",
       "\n",
       "    .dataframe tbody tr th {\n",
       "        vertical-align: top;\n",
       "    }\n",
       "\n",
       "    .dataframe thead th {\n",
       "        text-align: right;\n",
       "    }\n",
       "</style>\n",
       "<table border=\"1\" class=\"dataframe\">\n",
       "  <thead>\n",
       "    <tr style=\"text-align: right;\">\n",
       "      <th></th>\n",
       "      <th>movieId</th>\n",
       "      <th>title</th>\n",
       "      <th>genres</th>\n",
       "      <th>Film-Noir</th>\n",
       "      <th>Documentary</th>\n",
       "      <th>(no genres listed)</th>\n",
       "      <th>Romance</th>\n",
       "      <th>Action</th>\n",
       "      <th>Animation</th>\n",
       "      <th>Horror</th>\n",
       "      <th>...</th>\n",
       "      <th>Mystery</th>\n",
       "      <th>Thriller</th>\n",
       "      <th>Comedy</th>\n",
       "      <th>Musical</th>\n",
       "      <th>Fantasy</th>\n",
       "      <th>Western</th>\n",
       "      <th>Adventure</th>\n",
       "      <th>Children</th>\n",
       "      <th>IMAX</th>\n",
       "      <th>Sci-Fi</th>\n",
       "    </tr>\n",
       "  </thead>\n",
       "  <tbody>\n",
       "    <tr>\n",
       "      <th>0</th>\n",
       "      <td>1</td>\n",
       "      <td>Toy Story (1995)</td>\n",
       "      <td>[Adventure, Animation, Children, Comedy, Fantasy]</td>\n",
       "      <td>0</td>\n",
       "      <td>0</td>\n",
       "      <td>0</td>\n",
       "      <td>0</td>\n",
       "      <td>0</td>\n",
       "      <td>1</td>\n",
       "      <td>0</td>\n",
       "      <td>...</td>\n",
       "      <td>0</td>\n",
       "      <td>0</td>\n",
       "      <td>1</td>\n",
       "      <td>0</td>\n",
       "      <td>1</td>\n",
       "      <td>0</td>\n",
       "      <td>1</td>\n",
       "      <td>1</td>\n",
       "      <td>0</td>\n",
       "      <td>0</td>\n",
       "    </tr>\n",
       "    <tr>\n",
       "      <th>1</th>\n",
       "      <td>2</td>\n",
       "      <td>Jumanji (1995)</td>\n",
       "      <td>[Adventure, Children, Fantasy]</td>\n",
       "      <td>0</td>\n",
       "      <td>0</td>\n",
       "      <td>0</td>\n",
       "      <td>0</td>\n",
       "      <td>0</td>\n",
       "      <td>0</td>\n",
       "      <td>0</td>\n",
       "      <td>...</td>\n",
       "      <td>0</td>\n",
       "      <td>0</td>\n",
       "      <td>0</td>\n",
       "      <td>0</td>\n",
       "      <td>1</td>\n",
       "      <td>0</td>\n",
       "      <td>1</td>\n",
       "      <td>1</td>\n",
       "      <td>0</td>\n",
       "      <td>0</td>\n",
       "    </tr>\n",
       "    <tr>\n",
       "      <th>2</th>\n",
       "      <td>3</td>\n",
       "      <td>Grumpier Old Men (1995)</td>\n",
       "      <td>[Comedy, Romance]</td>\n",
       "      <td>0</td>\n",
       "      <td>0</td>\n",
       "      <td>0</td>\n",
       "      <td>1</td>\n",
       "      <td>0</td>\n",
       "      <td>0</td>\n",
       "      <td>0</td>\n",
       "      <td>...</td>\n",
       "      <td>0</td>\n",
       "      <td>0</td>\n",
       "      <td>1</td>\n",
       "      <td>0</td>\n",
       "      <td>0</td>\n",
       "      <td>0</td>\n",
       "      <td>0</td>\n",
       "      <td>0</td>\n",
       "      <td>0</td>\n",
       "      <td>0</td>\n",
       "    </tr>\n",
       "    <tr>\n",
       "      <th>3</th>\n",
       "      <td>4</td>\n",
       "      <td>Waiting to Exhale (1995)</td>\n",
       "      <td>[Comedy, Drama, Romance]</td>\n",
       "      <td>0</td>\n",
       "      <td>0</td>\n",
       "      <td>0</td>\n",
       "      <td>1</td>\n",
       "      <td>0</td>\n",
       "      <td>0</td>\n",
       "      <td>0</td>\n",
       "      <td>...</td>\n",
       "      <td>0</td>\n",
       "      <td>0</td>\n",
       "      <td>1</td>\n",
       "      <td>0</td>\n",
       "      <td>0</td>\n",
       "      <td>0</td>\n",
       "      <td>0</td>\n",
       "      <td>0</td>\n",
       "      <td>0</td>\n",
       "      <td>0</td>\n",
       "    </tr>\n",
       "    <tr>\n",
       "      <th>4</th>\n",
       "      <td>5</td>\n",
       "      <td>Father of the Bride Part II (1995)</td>\n",
       "      <td>[Comedy]</td>\n",
       "      <td>0</td>\n",
       "      <td>0</td>\n",
       "      <td>0</td>\n",
       "      <td>0</td>\n",
       "      <td>0</td>\n",
       "      <td>0</td>\n",
       "      <td>0</td>\n",
       "      <td>...</td>\n",
       "      <td>0</td>\n",
       "      <td>0</td>\n",
       "      <td>1</td>\n",
       "      <td>0</td>\n",
       "      <td>0</td>\n",
       "      <td>0</td>\n",
       "      <td>0</td>\n",
       "      <td>0</td>\n",
       "      <td>0</td>\n",
       "      <td>0</td>\n",
       "    </tr>\n",
       "  </tbody>\n",
       "</table>\n",
       "<p>5 rows × 23 columns</p>\n",
       "</div>"
      ],
      "text/plain": [
       "   movieId                               title  \\\n",
       "0        1                    Toy Story (1995)   \n",
       "1        2                      Jumanji (1995)   \n",
       "2        3             Grumpier Old Men (1995)   \n",
       "3        4            Waiting to Exhale (1995)   \n",
       "4        5  Father of the Bride Part II (1995)   \n",
       "\n",
       "                                              genres  Film-Noir  Documentary  \\\n",
       "0  [Adventure, Animation, Children, Comedy, Fantasy]          0            0   \n",
       "1                     [Adventure, Children, Fantasy]          0            0   \n",
       "2                                  [Comedy, Romance]          0            0   \n",
       "3                           [Comedy, Drama, Romance]          0            0   \n",
       "4                                           [Comedy]          0            0   \n",
       "\n",
       "   (no genres listed)  Romance  Action  Animation  Horror  ...  Mystery  \\\n",
       "0                   0        0       0          1       0  ...        0   \n",
       "1                   0        0       0          0       0  ...        0   \n",
       "2                   0        1       0          0       0  ...        0   \n",
       "3                   0        1       0          0       0  ...        0   \n",
       "4                   0        0       0          0       0  ...        0   \n",
       "\n",
       "   Thriller  Comedy  Musical  Fantasy  Western  Adventure  Children  IMAX  \\\n",
       "0         0       1        0        1        0          1         1     0   \n",
       "1         0       0        0        1        0          1         1     0   \n",
       "2         0       1        0        0        0          0         0     0   \n",
       "3         0       1        0        0        0          0         0     0   \n",
       "4         0       1        0        0        0          0         0     0   \n",
       "\n",
       "   Sci-Fi  \n",
       "0       0  \n",
       "1       0  \n",
       "2       0  \n",
       "3       0  \n",
       "4       0  \n",
       "\n",
       "[5 rows x 23 columns]"
      ]
     },
     "execution_count": 58,
     "metadata": {},
     "output_type": "execute_result"
    }
   ],
   "source": [
    "movies.head()"
   ]
  },
  {
   "cell_type": "code",
   "execution_count": 59,
   "id": "6a924051",
   "metadata": {},
   "outputs": [],
   "source": [
    "def get_content_based_recommendations(title_string, n_recommendations=10):\n",
    "    title = movie_finder(title_string)\n",
    "    idx = movie_idx[title]\n",
    "    sim_scores = list(enumerate(cosine_sim[idx]))\n",
    "    sim_scores = sorted(sim_scores, key=lambda x: x[1], reverse=True)\n",
    "    sim_scores = sim_scores[1: (n_recommendations+1)]\n",
    "    similar_movies = [i[0] for i in sim_scores]\n",
    "    print(f\"Because you watched {title}:\")\n",
    "    print(movies['title'].iloc[similar_movies])"
   ]
  },
  {
   "cell_type": "code",
   "execution_count": 60,
   "id": "9bfcb34c",
   "metadata": {},
   "outputs": [
    {
     "name": "stdout",
     "output_type": "stream",
     "text": [
      "Because you watched Toy Story (1995):\n",
      "2203                                       Antz (1998)\n",
      "3021                                Toy Story 2 (1999)\n",
      "3654    Adventures of Rocky and Bullwinkle, The (2000)\n",
      "3913                  Emperor's New Groove, The (2000)\n",
      "4781                             Monsters, Inc. (2001)\n",
      "Name: title, dtype: object\n"
     ]
    }
   ],
   "source": [
    "get_content_based_recommendations('toy story', 5)"
   ]
  },
  {
   "cell_type": "markdown",
   "id": "e44dcf86",
   "metadata": {},
   "source": [
    "<h2>Dimensionality Reduction with Matrix factorization</h2>"
   ]
  },
  {
   "cell_type": "code",
   "execution_count": 61,
   "id": "f67dbc20",
   "metadata": {},
   "outputs": [],
   "source": [
    "from sklearn.decomposition import TruncatedSVD"
   ]
  },
  {
   "cell_type": "code",
   "execution_count": 62,
   "id": "472b32c5",
   "metadata": {},
   "outputs": [
    {
     "data": {
      "text/plain": [
       "(16034, 30)"
      ]
     },
     "execution_count": 62,
     "metadata": {},
     "output_type": "execute_result"
    }
   ],
   "source": [
    "# n_components merupakan hyper parameter\n",
    "# Semakin kecil n_component semakin compact matrix sehingga accuracy prediction berkurang.\n",
    "svd = TruncatedSVD(n_components=30, n_iter=10)\n",
    "Q = svd.fit_transform(X.T)\n",
    "Q.shape"
   ]
  },
  {
   "cell_type": "code",
   "execution_count": 63,
   "id": "566e01d7",
   "metadata": {},
   "outputs": [
    {
     "name": "stdout",
     "output_type": "stream",
     "text": [
      "Because you watched Toy Story (1995):\n",
      "Lion King, The (1994)\n",
      "Toy Story 2 (1999)\n",
      "Aladdin (1992)\n",
      "Men in Black (a.k.a. MIB) (1997)\n",
      "Shrek (2001)\n",
      "Back to the Future (1985)\n",
      "Monsters, Inc. (2001)\n",
      "Groundhog Day (1993)\n",
      "Jurassic Park (1993)\n"
     ]
    }
   ],
   "source": [
    "movie_id = 1\n",
    "similar_movies = find_similar_movies(movie_id, Q.T, movie_mapper, movie_inv_mapper, metric='euclidean', k=10)\n",
    "movie_title = movie_titles[movie_id]\n",
    "\n",
    "print(f\"Because you watched {movie_title}:\")\n",
    "for i in similar_movies:\n",
    "    print(movie_titles[i])"
   ]
  },
  {
   "cell_type": "code",
   "execution_count": 64,
   "id": "3fffdcca",
   "metadata": {},
   "outputs": [],
   "source": [
    "import pickle"
   ]
  },
  {
   "cell_type": "code",
   "execution_count": 65,
   "id": "9f2c405d",
   "metadata": {},
   "outputs": [],
   "source": [
    "# with open('svd_modelv2.pkl', 'wb') as f:\n",
    "#     pickle.dump(svd, f)"
   ]
  },
  {
   "cell_type": "code",
   "execution_count": 66,
   "id": "1d3b42bd",
   "metadata": {},
   "outputs": [],
   "source": [
    "# np.save('Q_matrix.npy', Q)"
   ]
  },
  {
   "cell_type": "code",
   "execution_count": 67,
   "id": "9b277f44",
   "metadata": {},
   "outputs": [],
   "source": [
    "# with open('movie_inv_mapper.pkl', 'wb') as f:\n",
    "#     pickle.dump(movie_inv_mapper, f)\n",
    "\n",
    "# with open('user_inv_mapper.pkl', 'wb') as f:\n",
    "#     pickle.dump(user_inv_mapper, f)\n"
   ]
  },
  {
   "cell_type": "code",
   "execution_count": 68,
   "id": "0c57f397",
   "metadata": {},
   "outputs": [],
   "source": [
    "# with open(\"cosine_simv2.pkl\",\"wb\") as f:\n",
    "#     pickle.dump(cosine_sim, f)"
   ]
  },
  {
   "cell_type": "code",
   "execution_count": 69,
   "id": "80264c8b",
   "metadata": {},
   "outputs": [],
   "source": [
    "\n",
    "# with open('movie_titles.pkl', 'wb') as f:\n",
    "#     pickle.dump(movie_titles, f)"
   ]
  }
 ],
 "metadata": {
  "kernelspec": {
   "display_name": "projectML",
   "language": "python",
   "name": "python3"
  },
  "language_info": {
   "codemirror_mode": {
    "name": "ipython",
    "version": 3
   },
   "file_extension": ".py",
   "mimetype": "text/x-python",
   "name": "python",
   "nbconvert_exporter": "python",
   "pygments_lexer": "ipython3",
   "version": "3.10.9"
  }
 },
 "nbformat": 4,
 "nbformat_minor": 5
}
